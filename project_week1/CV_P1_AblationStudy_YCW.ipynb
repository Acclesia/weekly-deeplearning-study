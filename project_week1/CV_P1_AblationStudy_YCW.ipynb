{
 "cells": [
  {
   "cell_type": "markdown",
   "id": "welsh-hotel",
   "metadata": {},
   "source": [
    "# AIFFEL 대전 1기 Going Deeper CV Project 1\n",
    "## Date: APRIL 06, 2021"
   ]
  },
  {
   "cell_type": "markdown",
   "id": "least-seattle",
   "metadata": {},
   "source": [
    "# Ablation Study\n",
    "### Ablation이란?\n",
    "- 잘라냄, 제거라는 뜻을 가지고 있다.  \n",
    "\n",
    "### Ablation Study란?\n",
    "- 직역하면 `제거 연구(공부)`라고 할 수 있다.  \n",
    "- 의학에서 어떤 조직이나 장기를 제거해 어떤 성능/기능을 하는 지 알아보는 연구라고 한다.  \n",
    "- 인공지능 분야에서는 **machine learning system의 building blocks을 제거해서 전체 성능에 미치는 효과에 대한 insight를 얻기 위한 과학적 실험**  \n",
    "> [Ablation Study 관련 블로그1](https://cumulu-s.tistory.com/8)  \n",
    "> [Ablation Study 관련 블로그2](https://fintecuriosity-11.tistory.com/73)  \n",
    "\n",
    "- ResNet을 예로 들면 residual connection이 없는 일반 네트워크(plain net)와 ResNet을 비교한 결과가 있다. error를 살펴보면 residual connection이 있는 모델이 error가 낮음을 알 수 있다.  \n",
    "![ResNet error](https://aiffelstaticprd.blob.core.windows.net/media/images/GC-1-P-2_KU8V5aZ.max-800x600.png)  "
   ]
  }
 ],
 "metadata": {
  "kernelspec": {
   "display_name": "aiffel",
   "language": "python",
   "name": "aiffel"
  },
  "language_info": {
   "codemirror_mode": {
    "name": "ipython",
    "version": 3
   },
   "file_extension": ".py",
   "mimetype": "text/x-python",
   "name": "python",
   "nbconvert_exporter": "python",
   "pygments_lexer": "ipython3",
   "version": "3.7.10"
  }
 },
 "nbformat": 4,
 "nbformat_minor": 5
}
