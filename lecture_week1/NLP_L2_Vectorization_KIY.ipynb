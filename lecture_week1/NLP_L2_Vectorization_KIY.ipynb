{
 "cells": [
  {
   "cell_type": "markdown",
   "id": "anonymous-secret",
   "metadata": {},
   "source": [
    "# 3-1. 들어가며"
   ]
  },
  {
   "cell_type": "markdown",
   "id": "legislative-birthday",
   "metadata": {},
   "source": [
    "## 목차  \n",
    "***\n",
    "1. 단어 빈도를 이용한 벡터화  \n",
    "(1) Bag of Words  \n",
    "(2) Bag of Words 구현해보기  \n",
    "(3) DTM과 코사인 유사도  \n",
    "(4) DTM의 구현과 한계점  \n",
    "(5) TF-IDF  \n",
    "(6) TF-IDF 구현하기  \n",
    "2. LSA와 LDA  \n",
    "(1) LSA  \n",
    "(2) LSA 실습  \n",
    "(3) LDA  \n",
    "(4) LDA 실습  \n",
    "3. 텍스트 분포를 이용한 비지도 학습 토크나이저  \n",
    "(1) 형태소 분석기와 단어 미등록 문제  \n",
    "(2) soynlp  \n"
   ]
  },
  {
   "cell_type": "markdown",
   "id": "fatty-steel",
   "metadata": {},
   "source": [
    "# 3-2. 단어 빈도를 이용한 벡터화 (1) Bag of Words"
   ]
  },
  {
   "cell_type": "markdown",
   "id": "working-idaho",
   "metadata": {},
   "source": [
    "텍스트를 숫자로 변환하는 벡터화, 그래야 컴퓨터가 알아들을 수 있으니까  \n",
    "벡터화 방법으로는  \n",
    "(1) 통계와 머신 러닝을 활용한 방법  \n",
    "(2) 인공 신경망을 활용하는 방법  \n",
    "이번에는 (1)번만 배울 예정이다. \n",
    "\n",
    "## Bag of Words (BoW)\n",
    "단어들의 분포로 문서를 특성을 파악하는 기법  \n",
    "![](https://aiffelstaticprd.blob.core.windows.net/media/images/GN-2-L-1.max-800x600.png)"
   ]
  },
  {
   "cell_type": "markdown",
   "id": "impaired-liability",
   "metadata": {},
   "source": [
    "이 가방은 중복을 제거하지않고 단어를 카운트한다. 즉 순서를 무시하고 빈도 정보를 정리한다.  \n",
    "```\n",
    "doc1 = 'John likes to watch movies. Mary likes movies too.'\n",
    "BoW1 = {\"John\":1, \"likes\":2, \"to\":1, \"watch\":1, \"movies\":2, \"Mary\":1, \"too\":1}\n",
    "```\n",
    "위에서 보듯이 순서는 관련이 없이 빈도 수만 체크하고 그리고 그건 단점이 되기도  \n",
    "\n",
    "# 3-3. 단어 빈도를 이용한 벡터화 (2) Bag of Words 구현해보기"
   ]
  },
  {
   "cell_type": "markdown",
   "id": "posted-irish",
   "metadata": {},
   "source": [
    "텐서플로우 케라스와 사이킷런 라이브러리를 이용해서 가방을 만들어 보자  \n",
    "\n",
    "## keras Tokenizer 활용\n",
    "\n",
    "토크나이저로 가방을 만들어보자"
   ]
  },
  {
   "cell_type": "code",
   "execution_count": 1,
   "id": "assigned-offering",
   "metadata": {},
   "outputs": [
    {
     "name": "stdout",
     "output_type": "stream",
     "text": [
      "Bag of Words : {'john': 1, 'likes': 3, 'to': 2, 'watch': 2, 'movies': 2, 'mary': 2, 'too': 1, 'also': 1, 'football': 1, 'games': 1}\n",
      "단어장(Vocabulary)의 크기 : 10\n"
     ]
    }
   ],
   "source": [
    "from tensorflow.keras.preprocessing.text import Tokenizer\n",
    "\n",
    "sentence = [\"John likes to watch movies. Mary likes movies too! Mary also likes to watch football games.\"]\n",
    "\n",
    "def print_bow(sentence):\n",
    "    tokenizer = Tokenizer()\n",
    "    tokenizer.fit_on_texts(sentence) # 단어장 생성\n",
    "    bow = dict(tokenizer.word_counts) # 각 단어와 각 단어의 빈도를 bow에 저장\n",
    "    print(\"Bag of Words :\", bow) # bow 출력\n",
    "    print('단어장(Vocabulary)의 크기 :', len(tokenizer.word_counts)) # 중복을 제거한 단어들의 개수\n",
    "\n",
    "print_bow(sentence)"
   ]
  },
  {
   "cell_type": "markdown",
   "id": "standing-hardware",
   "metadata": {},
   "source": [
    "## scikit-learn CountVectorizer 활용\n",
    "사이킷런 카운트벡터라이저로 가방 만들 수 있다. "
   ]
  },
  {
   "cell_type": "code",
   "execution_count": 2,
   "id": "exotic-webcam",
   "metadata": {},
   "outputs": [
    {
     "name": "stdout",
     "output_type": "stream",
     "text": [
      "Bag of Words :  [[1 1 1 1 3 2 2 2 1 2]]\n",
      "각 단어의 인덱스 : {'john': 3, 'likes': 4, 'to': 7, 'watch': 9, 'movies': 6, 'mary': 5, 'too': 8, 'also': 0, 'football': 1, 'games': 2}\n"
     ]
    }
   ],
   "source": [
    "from sklearn.feature_extraction.text import CountVectorizer\n",
    "sentence = [\"John likes to watch movies. Mary likes movies too! Mary also likes to watch football games.\"]\n",
    "vector = CountVectorizer()\n",
    "print('Bag of Words : ',vector.fit_transform(sentence).toarray()) # 코퍼스로부터 각 단어의 빈도수를 기록한다.\n",
    "print('각 단어의 인덱스 :',vector.vocabulary_) # 각 단어의 인덱스가 어떻게 부여되었는지를 보여준다."
   ]
  },
  {
   "cell_type": "markdown",
   "id": "collected-trading",
   "metadata": {},
   "source": [
    "vector.fit_transform(sentence).toarray() -> 단어 없이 빈도수만 출력, 어떤 단어의 빈도수인지 알 수 없다.  \n",
    "vector.vocabulary_ -> 이게 단어에 인덱스를 붙여주고 인덱스가 0부터 시작인 점이 특징이다.   \n",
    "'also'의 빈도는 1, 'likes'는 3번이나 나왔다는 것을 알 수 있다."
   ]
  },
  {
   "cell_type": "code",
   "execution_count": 3,
   "id": "hazardous-scottish",
   "metadata": {},
   "outputs": [
    {
     "name": "stdout",
     "output_type": "stream",
     "text": [
      "단어장(Vocabulary)의 크기 : 10\n"
     ]
    }
   ],
   "source": [
    "print('단어장(Vocabulary)의 크기 :', len(vector.vocabulary_))"
   ]
  },
  {
   "cell_type": "markdown",
   "id": "latter-translation",
   "metadata": {},
   "source": [
    "이 BoW 어디에 사용할거나면"
   ]
  },
  {
   "cell_type": "markdown",
   "id": "racial-gamma",
   "metadata": {},
   "source": [
    "# 3-4. 단어 빈도를 이용한 벡터화 (3) DTM과 코사인 유사도"
   ]
  },
  {
   "cell_type": "markdown",
   "id": "growing-hazard",
   "metadata": {},
   "source": [
    "Document-Term Matrix(DTM)은 여러 문서의 BoW를 하나의 행렬로 구현한 것  \n",
    "행->Document, 열->Term  \n",
    "행->Term, 열->Document 로 써서 TDM으로 부르기도 한다.  \n",
    "\n",
    "예시를 보자  \n",
    "문서 1: Intelligent applications creates intelligent business processes  \n",
    "문서 2: Bots are intelligent applications  \n",
    "문서 3: I do business intelligence  \n",
    "![](https://aiffelstaticprd.blob.core.windows.net/media/images/GN-2-L-2.max-800x600.png)\n"
   ]
  },
  {
   "cell_type": "markdown",
   "id": "beneficial-chapel",
   "metadata": {},
   "source": [
    "이때 각 행을 문서 벡터(document vector), 열을 단어 벡터(word vector) 라고 할 수 있다.\n",
    "여러 문서 속 단어를 함께 표현하다 보니 0을 많이 가지게 되었다. 문서가 많아지면 0은 더 많아질 것.  \n",
    "무튼 이걸로 문서들을 비교하면서 유사도를 구할 수 있다.  \n",
    "\n",
    "유사도 구하는 계산은 가장 보편적으로 코사인 유사도가 있다.\n",
    "새로운 예시로 유사도까지 구해보자  \n",
    "문서1 : I like dog  \n",
    "문서2 : I like cat  \n",
    "문서3 : I like cat I like cat  \n",
    "![](https://aiffelstaticprd.blob.core.windows.net/media/original_images/GN-2-L-3.png)"
   ]
  },
  {
   "cell_type": "code",
   "execution_count": 4,
   "id": "superb-playback",
   "metadata": {},
   "outputs": [],
   "source": [
    "import numpy as np\n",
    "from numpy import dot\n",
    "from numpy.linalg import norm\n",
    "\n",
    "doc1 = np.array([0,1,1,1]) # 문서1 벡터\n",
    "doc2 = np.array([1,0,1,1]) # 문서2 벡터\n",
    "doc3 = np.array([2,0,2,2]) # 문서3 벡터\n",
    "\n",
    "def cos_sim(A, B):\n",
    "       return dot(A, B)/(norm(A)*norm(B))"
   ]
  },
  {
   "cell_type": "markdown",
   "id": "insured-board",
   "metadata": {},
   "source": [
    "[코사인 유사도(Cosine Similarity)](https://wikidocs.net/24603)  \n",
    "유사도는 0 이상 1 이하의 값을 가지며 값이 1에 가까울수록 유사도가 높다"
   ]
  },
  {
   "cell_type": "code",
   "execution_count": 5,
   "id": "isolated-making",
   "metadata": {},
   "outputs": [
    {
     "name": "stdout",
     "output_type": "stream",
     "text": [
      "0.6666666666666667\n",
      "0.6666666666666667\n",
      "1.0000000000000002\n"
     ]
    }
   ],
   "source": [
    "print(cos_sim(doc1, doc2)) #문서1과 문서2의 코사인 유사도\n",
    "print(cos_sim(doc1, doc3)) #문서1과 문서3의 코사인 유사도\n",
    "print(cos_sim(doc2, doc3)) #문서2과 문서3의 코사인 유사도"
   ]
  },
  {
   "cell_type": "markdown",
   "id": "relevant-final",
   "metadata": {},
   "source": [
    "# 3-5. 단어 빈도를 이용한 벡터화 (4) DTM의 구현과 한계점"
   ]
  },
  {
   "cell_type": "markdown",
   "id": "greek-meditation",
   "metadata": {},
   "source": [
    "## scikit-learn CountVectorizer 활용"
   ]
  },
  {
   "cell_type": "markdown",
   "id": "unnecessary-vietnamese",
   "metadata": {},
   "source": [
    "카운트벡터라이저를 이용해서 DTM을 만드는 방법은 BoW를 만드는 방법과 동일  "
   ]
  },
  {
   "cell_type": "code",
   "execution_count": 6,
   "id": "exact-renewal",
   "metadata": {},
   "outputs": [
    {
     "name": "stdout",
     "output_type": "stream",
     "text": [
      "[[0 0 0 1 1 0 1 1 0 1]\n",
      " [0 0 0 0 1 1 1 0 1 0]\n",
      " [1 1 1 0 1 1 0 1 0 1]]\n",
      "{'john': 3, 'likes': 4, 'to': 7, 'watch': 9, 'movies': 6, 'mary': 5, 'too': 8, 'also': 0, 'football': 1, 'games': 2}\n"
     ]
    }
   ],
   "source": [
    "from sklearn.feature_extraction.text import CountVectorizer\n",
    "corpus = [\n",
    "    'John likes to watch movies',\n",
    "    'Mary likes movies too',\n",
    "    'Mary also likes to watch football games',    \n",
    "]\n",
    "vector = CountVectorizer()\n",
    "print(vector.fit_transform(corpus).toarray()) # 코퍼스로부터 각 단어의 빈도수를 기록.\n",
    "print(vector.vocabulary_) # 각 단어의 인덱스가 어떻게 부여되었는지를 보여준다."
   ]
  },
  {
   "cell_type": "markdown",
   "id": "acoustic-bracket",
   "metadata": {},
   "source": [
    "## DTM의 한계"
   ]
  },
  {
   "cell_type": "markdown",
   "id": "designing-intersection",
   "metadata": {},
   "source": [
    "아까 잠깐 짚었는데, 많은 문서를 함께 단어장을 만들 경우 대부분 0이 된다.  \n",
    "또, 단어 빈도에만 집중하기 때문에 the와 같은 불용어가 어떤 두 문서에 자주 나왔다고 그 문서끼리 유사하다고 판단할 수도 있다.  \n",
    "그렇다면 요한 단어와 중요하지 않은 단어에 가중치를 따로 선별해서 주는 방법은?"
   ]
  },
  {
   "cell_type": "markdown",
   "id": "pointed-screen",
   "metadata": {},
   "source": [
    "# 3-6. 단어 빈도를 이용한 벡터화 (5) TF-IDF"
   ]
  },
  {
   "cell_type": "markdown",
   "id": "commercial-rouge",
   "metadata": {},
   "source": [
    "## TF-IDF"
   ]
  },
  {
   "cell_type": "markdown",
   "id": "living-edition",
   "metadata": {},
   "source": [
    "Term Frequency-Inverse Document Frequency : 단어 빈도-역문서 빈도  \n",
    "모든 문서에서 자주 등장하는 단어(the, a,,,)는 중요도가 낮다고 판단하며, 특정 문서에서만 자주 등장하는 단어는 중요도가 높다고 판단하는 것  \n",
    "불용어처럼 중요도가 낮으면서 모든 문서에 등장하는 단어들이 노이즈가 되는 것을 완화  \n",
    "그러나 DTM 보다 성능이 항상 뛰어나지 않기 때문에 우선 DTM을 만든 뒤에 TF-IDF 가중치를 DTM에 적용하는 방식으로 사용  \n",
    "DTM은 이미 TF 행렬. 여기에 IDF값을 곱해주면 TF-IDF 완성  \n"
   ]
  },
  {
   "cell_type": "markdown",
   "id": "palestinian-tomato",
   "metadata": {},
   "source": [
    "##  TF-IDF 계산"
   ]
  },
  {
   "cell_type": "markdown",
   "id": "fiscal-happiness",
   "metadata": {},
   "source": [
    "![](https://aiffelstaticprd.blob.core.windows.net/media/original_images/GN-2-L-4.png)"
   ]
  },
  {
   "cell_type": "markdown",
   "id": "given-secondary",
   "metadata": {},
   "source": [
    "$$W_x,y=tf_x,y*log(N/df_x)$$"
   ]
  },
  {
   "cell_type": "markdown",
   "id": "editorial-exchange",
   "metadata": {},
   "source": [
    "x는 단어 y는 문서 log항은 IDF  \n",
    "\n",
    "이 IDF는 어떻게 구할까?  \n",
    "문서가 5개가 있는데, like라는 단어가 문서 2에서 200번, 문서 3에서 300번 나왔다고 할 때, like의 DF는?  \n",
    "단어의 빈도수가 아니고 다큐먼트 프리퀀시, 즉 등장한 문서 개수이기 때문에 $df_x$는 2이다.  \n",
    "IDF를 지원하는 파이썬 패키지들에서 log는 자연로그($ln$)를 사용\n",
    "N은 전체 다큐먼트 개수이므로 IDF는 $ln(5/2)$이다. \n",
    "\n",
    "문서2에서의 단어 'like'의 TF-IDF 값과 문서3에서의 단어 'like'의 TF-IDF값은 몇일까?  \n",
    "문서2의 단어 'like'의 TF-IDF를 구하는 식은 $200×ln(5/2)$  \n",
    "문서3은 당연히 $300×ln(5/2)$"
   ]
  },
  {
   "cell_type": "markdown",
   "id": "determined-winter",
   "metadata": {},
   "source": [
    "# 3-7. 단어 빈도를 이용한 벡터화 (6) TF-IDF 구현하기"
   ]
  },
  {
   "cell_type": "markdown",
   "id": "norwegian-objective",
   "metadata": {},
   "source": [
    "## TF-IDF 구현하기"
   ]
  },
  {
   "cell_type": "code",
   "execution_count": 7,
   "id": "detected-reverse",
   "metadata": {},
   "outputs": [],
   "source": [
    "from math import log\n",
    "import pandas as pd"
   ]
  },
  {
   "cell_type": "code",
   "execution_count": 8,
   "id": "organized-rally",
   "metadata": {},
   "outputs": [],
   "source": [
    "# 문서 준비\n",
    "docs = [\n",
    "  'John likes to watch movies and Mary likes movies too',\n",
    "  'James likes to watch TV',\n",
    "  'Mary also likes to watch football games',  \n",
    "]"
   ]
  },
  {
   "cell_type": "code",
   "execution_count": 9,
   "id": "balanced-dragon",
   "metadata": {},
   "outputs": [
    {
     "name": "stdout",
     "output_type": "stream",
     "text": [
      "단어장의 크기 : 13\n",
      "['James', 'John', 'Mary', 'TV', 'also', 'and', 'football', 'games', 'likes', 'movies', 'to', 'too', 'watch']\n"
     ]
    }
   ],
   "source": [
    "# 단어장 준비\n",
    "vocab = list(set(w for doc in docs for w in doc.split()))\n",
    "vocab.sort()\n",
    "print('단어장의 크기 :', len(vocab))\n",
    "print(vocab)"
   ]
  },
  {
   "cell_type": "code",
   "execution_count": 10,
   "id": "monetary-period",
   "metadata": {},
   "outputs": [
    {
     "data": {
      "text/plain": [
       "3"
      ]
     },
     "execution_count": 10,
     "metadata": {},
     "output_type": "execute_result"
    }
   ],
   "source": [
    "# 문서 수 저장\n",
    "N = len(docs) # 총 문서의 수\n",
    "N"
   ]
  },
  {
   "cell_type": "markdown",
   "id": "injured-casting",
   "metadata": {},
   "source": [
    "TF-IDF 함수 만들기. 그런데 여기서 IDF는 앞에서 배운 식과 약간 다른 식을 사용한다. 많은 파이썬패키지에 맞춰 조금 조정된 식이다.   \n",
    "여기서는 log항의 분모 $df_x$에 1을 더해준다. 특정 단어가 등장하지 않았을 때, 분모가 0이 되는 것을 방지하기 위함이다.  \n",
    "또 log항에 1을 더해준다. $\\frac{N}{df_x}$가 1이 되면 $log1=0$이 되는 것을 방지하기 위함이다."
   ]
  },
  {
   "cell_type": "code",
   "execution_count": 11,
   "id": "acceptable-millennium",
   "metadata": {},
   "outputs": [],
   "source": [
    "def tf(t, d):\n",
    "    return d.count(t)\n",
    " \n",
    "def idf(t):\n",
    "    df = 0\n",
    "    for doc in docs:\n",
    "        df += t in doc    \n",
    "    return log(N/(df + 1)) + 1\n",
    " \n",
    "def tfidf(t, d):\n",
    "    return tf(t,d)* idf(t)"
   ]
  },
  {
   "cell_type": "code",
   "execution_count": 12,
   "id": "collected-student",
   "metadata": {},
   "outputs": [
    {
     "data": {
      "text/html": [
       "<div>\n",
       "<style scoped>\n",
       "    .dataframe tbody tr th:only-of-type {\n",
       "        vertical-align: middle;\n",
       "    }\n",
       "\n",
       "    .dataframe tbody tr th {\n",
       "        vertical-align: top;\n",
       "    }\n",
       "\n",
       "    .dataframe thead th {\n",
       "        text-align: right;\n",
       "    }\n",
       "</style>\n",
       "<table border=\"1\" class=\"dataframe\">\n",
       "  <thead>\n",
       "    <tr style=\"text-align: right;\">\n",
       "      <th></th>\n",
       "      <th>James</th>\n",
       "      <th>John</th>\n",
       "      <th>Mary</th>\n",
       "      <th>TV</th>\n",
       "      <th>also</th>\n",
       "      <th>and</th>\n",
       "      <th>football</th>\n",
       "      <th>games</th>\n",
       "      <th>likes</th>\n",
       "      <th>movies</th>\n",
       "      <th>to</th>\n",
       "      <th>too</th>\n",
       "      <th>watch</th>\n",
       "    </tr>\n",
       "  </thead>\n",
       "  <tbody>\n",
       "    <tr>\n",
       "      <th>0</th>\n",
       "      <td>0</td>\n",
       "      <td>1</td>\n",
       "      <td>1</td>\n",
       "      <td>0</td>\n",
       "      <td>0</td>\n",
       "      <td>1</td>\n",
       "      <td>0</td>\n",
       "      <td>0</td>\n",
       "      <td>2</td>\n",
       "      <td>2</td>\n",
       "      <td>2</td>\n",
       "      <td>1</td>\n",
       "      <td>1</td>\n",
       "    </tr>\n",
       "    <tr>\n",
       "      <th>1</th>\n",
       "      <td>1</td>\n",
       "      <td>0</td>\n",
       "      <td>0</td>\n",
       "      <td>1</td>\n",
       "      <td>0</td>\n",
       "      <td>0</td>\n",
       "      <td>0</td>\n",
       "      <td>0</td>\n",
       "      <td>1</td>\n",
       "      <td>0</td>\n",
       "      <td>1</td>\n",
       "      <td>0</td>\n",
       "      <td>1</td>\n",
       "    </tr>\n",
       "    <tr>\n",
       "      <th>2</th>\n",
       "      <td>0</td>\n",
       "      <td>0</td>\n",
       "      <td>1</td>\n",
       "      <td>0</td>\n",
       "      <td>1</td>\n",
       "      <td>0</td>\n",
       "      <td>1</td>\n",
       "      <td>1</td>\n",
       "      <td>1</td>\n",
       "      <td>0</td>\n",
       "      <td>1</td>\n",
       "      <td>0</td>\n",
       "      <td>1</td>\n",
       "    </tr>\n",
       "  </tbody>\n",
       "</table>\n",
       "</div>"
      ],
      "text/plain": [
       "   James  John  Mary  TV  also  and  football  games  likes  movies  to  too  \\\n",
       "0      0     1     1   0     0    1         0      0      2       2   2    1   \n",
       "1      1     0     0   1     0    0         0      0      1       0   1    0   \n",
       "2      0     0     1   0     1    0         1      1      1       0   1    0   \n",
       "\n",
       "   watch  \n",
       "0      1  \n",
       "1      1  \n",
       "2      1  "
      ]
     },
     "execution_count": 12,
     "metadata": {},
     "output_type": "execute_result"
    }
   ],
   "source": [
    "#  TF 함수를 사용하여 DTM 만들기  \n",
    "result = []\n",
    "for i in range(N): # 각 문서에 대해서 아래 명령을 수행\n",
    "    result.append([])\n",
    "    d = docs[i]\n",
    "    for j in range(len(vocab)):\n",
    "        t = vocab[j]\n",
    "        \n",
    "        result[-1].append(tf(t, d))\n",
    "        \n",
    "tf_ = pd.DataFrame(result, columns = vocab)\n",
    "tf_"
   ]
  },
  {
   "cell_type": "code",
   "execution_count": 13,
   "id": "scientific-darwin",
   "metadata": {},
   "outputs": [
    {
     "data": {
      "text/html": [
       "<div>\n",
       "<style scoped>\n",
       "    .dataframe tbody tr th:only-of-type {\n",
       "        vertical-align: middle;\n",
       "    }\n",
       "\n",
       "    .dataframe tbody tr th {\n",
       "        vertical-align: top;\n",
       "    }\n",
       "\n",
       "    .dataframe thead th {\n",
       "        text-align: right;\n",
       "    }\n",
       "</style>\n",
       "<table border=\"1\" class=\"dataframe\">\n",
       "  <thead>\n",
       "    <tr style=\"text-align: right;\">\n",
       "      <th></th>\n",
       "      <th>IDF</th>\n",
       "    </tr>\n",
       "  </thead>\n",
       "  <tbody>\n",
       "    <tr>\n",
       "      <th>James</th>\n",
       "      <td>1.405465</td>\n",
       "    </tr>\n",
       "    <tr>\n",
       "      <th>John</th>\n",
       "      <td>1.405465</td>\n",
       "    </tr>\n",
       "    <tr>\n",
       "      <th>Mary</th>\n",
       "      <td>1.000000</td>\n",
       "    </tr>\n",
       "    <tr>\n",
       "      <th>TV</th>\n",
       "      <td>1.405465</td>\n",
       "    </tr>\n",
       "    <tr>\n",
       "      <th>also</th>\n",
       "      <td>1.405465</td>\n",
       "    </tr>\n",
       "    <tr>\n",
       "      <th>and</th>\n",
       "      <td>1.405465</td>\n",
       "    </tr>\n",
       "    <tr>\n",
       "      <th>football</th>\n",
       "      <td>1.405465</td>\n",
       "    </tr>\n",
       "    <tr>\n",
       "      <th>games</th>\n",
       "      <td>1.405465</td>\n",
       "    </tr>\n",
       "    <tr>\n",
       "      <th>likes</th>\n",
       "      <td>0.712318</td>\n",
       "    </tr>\n",
       "    <tr>\n",
       "      <th>movies</th>\n",
       "      <td>1.405465</td>\n",
       "    </tr>\n",
       "    <tr>\n",
       "      <th>to</th>\n",
       "      <td>0.712318</td>\n",
       "    </tr>\n",
       "    <tr>\n",
       "      <th>too</th>\n",
       "      <td>1.405465</td>\n",
       "    </tr>\n",
       "    <tr>\n",
       "      <th>watch</th>\n",
       "      <td>0.712318</td>\n",
       "    </tr>\n",
       "  </tbody>\n",
       "</table>\n",
       "</div>"
      ],
      "text/plain": [
       "               IDF\n",
       "James     1.405465\n",
       "John      1.405465\n",
       "Mary      1.000000\n",
       "TV        1.405465\n",
       "also      1.405465\n",
       "and       1.405465\n",
       "football  1.405465\n",
       "games     1.405465\n",
       "likes     0.712318\n",
       "movies    1.405465\n",
       "to        0.712318\n",
       "too       1.405465\n",
       "watch     0.712318"
      ]
     },
     "execution_count": 13,
     "metadata": {},
     "output_type": "execute_result"
    }
   ],
   "source": [
    "# IDF 구하기\n",
    "result = []\n",
    "for j in range(len(vocab)):\n",
    "    t = vocab[j]\n",
    "    result.append(idf(t))\n",
    "\n",
    "idf_ = pd.DataFrame(result, index = vocab, columns=[\"IDF\"])\n",
    "idf_"
   ]
  },
  {
   "cell_type": "markdown",
   "id": "documentary-worse",
   "metadata": {},
   "source": [
    "1개의 문서에만 등장한 단어들만 높은 값을 가진다. => Term Frequency-Inverse Document Frequency 특징"
   ]
  },
  {
   "cell_type": "code",
   "execution_count": 14,
   "id": "square-river",
   "metadata": {},
   "outputs": [
    {
     "data": {
      "text/html": [
       "<div>\n",
       "<style scoped>\n",
       "    .dataframe tbody tr th:only-of-type {\n",
       "        vertical-align: middle;\n",
       "    }\n",
       "\n",
       "    .dataframe tbody tr th {\n",
       "        vertical-align: top;\n",
       "    }\n",
       "\n",
       "    .dataframe thead th {\n",
       "        text-align: right;\n",
       "    }\n",
       "</style>\n",
       "<table border=\"1\" class=\"dataframe\">\n",
       "  <thead>\n",
       "    <tr style=\"text-align: right;\">\n",
       "      <th></th>\n",
       "      <th>James</th>\n",
       "      <th>John</th>\n",
       "      <th>Mary</th>\n",
       "      <th>TV</th>\n",
       "      <th>also</th>\n",
       "      <th>and</th>\n",
       "      <th>football</th>\n",
       "      <th>games</th>\n",
       "      <th>likes</th>\n",
       "      <th>movies</th>\n",
       "      <th>to</th>\n",
       "      <th>too</th>\n",
       "      <th>watch</th>\n",
       "    </tr>\n",
       "  </thead>\n",
       "  <tbody>\n",
       "    <tr>\n",
       "      <th>0</th>\n",
       "      <td>0.000000</td>\n",
       "      <td>1.405465</td>\n",
       "      <td>1.0</td>\n",
       "      <td>0.000000</td>\n",
       "      <td>0.000000</td>\n",
       "      <td>1.405465</td>\n",
       "      <td>0.000000</td>\n",
       "      <td>0.000000</td>\n",
       "      <td>1.424636</td>\n",
       "      <td>2.81093</td>\n",
       "      <td>1.424636</td>\n",
       "      <td>1.405465</td>\n",
       "      <td>0.712318</td>\n",
       "    </tr>\n",
       "    <tr>\n",
       "      <th>1</th>\n",
       "      <td>1.405465</td>\n",
       "      <td>0.000000</td>\n",
       "      <td>0.0</td>\n",
       "      <td>1.405465</td>\n",
       "      <td>0.000000</td>\n",
       "      <td>0.000000</td>\n",
       "      <td>0.000000</td>\n",
       "      <td>0.000000</td>\n",
       "      <td>0.712318</td>\n",
       "      <td>0.00000</td>\n",
       "      <td>0.712318</td>\n",
       "      <td>0.000000</td>\n",
       "      <td>0.712318</td>\n",
       "    </tr>\n",
       "    <tr>\n",
       "      <th>2</th>\n",
       "      <td>0.000000</td>\n",
       "      <td>0.000000</td>\n",
       "      <td>1.0</td>\n",
       "      <td>0.000000</td>\n",
       "      <td>1.405465</td>\n",
       "      <td>0.000000</td>\n",
       "      <td>1.405465</td>\n",
       "      <td>1.405465</td>\n",
       "      <td>0.712318</td>\n",
       "      <td>0.00000</td>\n",
       "      <td>0.712318</td>\n",
       "      <td>0.000000</td>\n",
       "      <td>0.712318</td>\n",
       "    </tr>\n",
       "  </tbody>\n",
       "</table>\n",
       "</div>"
      ],
      "text/plain": [
       "      James      John  Mary        TV      also       and  football     games  \\\n",
       "0  0.000000  1.405465   1.0  0.000000  0.000000  1.405465  0.000000  0.000000   \n",
       "1  1.405465  0.000000   0.0  1.405465  0.000000  0.000000  0.000000  0.000000   \n",
       "2  0.000000  0.000000   1.0  0.000000  1.405465  0.000000  1.405465  1.405465   \n",
       "\n",
       "      likes   movies        to       too     watch  \n",
       "0  1.424636  2.81093  1.424636  1.405465  0.712318  \n",
       "1  0.712318  0.00000  0.712318  0.000000  0.712318  \n",
       "2  0.712318  0.00000  0.712318  0.000000  0.712318  "
      ]
     },
     "execution_count": 14,
     "metadata": {},
     "output_type": "execute_result"
    }
   ],
   "source": [
    "result = []\n",
    "for i in range(N):\n",
    "    result.append([])\n",
    "    d = docs[i]\n",
    "    for j in range(len(vocab)):\n",
    "        t = vocab[j]\n",
    "        \n",
    "        result[-1].append(tfidf(t,d))\n",
    "\n",
    "tfidf_ = pd.DataFrame(result, columns = vocab)\n",
    "tfidf_"
   ]
  },
  {
   "cell_type": "markdown",
   "id": "demonstrated-drama",
   "metadata": {},
   "source": [
    "## scikit-learn TFidVectorizer 활용"
   ]
  },
  {
   "cell_type": "markdown",
   "id": "velvet-disco",
   "metadata": {},
   "source": [
    "카운트벡터라이저처럼 TF-IDF를 자동으로 계산하여 출력하는 TfidfVectorizer를 사이킷런에서 제공합니다.  \n",
    "위처럼 기본식을 약간 조정한 식을 사용한다. log항의 분모 $df_x$에 1을 더해주고 TF-IDF의 결과에 L2 Norm까지 추가적으로 수행한다."
   ]
  },
  {
   "cell_type": "code",
   "execution_count": 15,
   "id": "stone-sucking",
   "metadata": {},
   "outputs": [
    {
     "data": {
      "text/html": [
       "<div>\n",
       "<style scoped>\n",
       "    .dataframe tbody tr th:only-of-type {\n",
       "        vertical-align: middle;\n",
       "    }\n",
       "\n",
       "    .dataframe tbody tr th {\n",
       "        vertical-align: top;\n",
       "    }\n",
       "\n",
       "    .dataframe thead th {\n",
       "        text-align: right;\n",
       "    }\n",
       "</style>\n",
       "<table border=\"1\" class=\"dataframe\">\n",
       "  <thead>\n",
       "    <tr style=\"text-align: right;\">\n",
       "      <th></th>\n",
       "      <th>also</th>\n",
       "      <th>and</th>\n",
       "      <th>football</th>\n",
       "      <th>games</th>\n",
       "      <th>james</th>\n",
       "      <th>john</th>\n",
       "      <th>likes</th>\n",
       "      <th>mary</th>\n",
       "      <th>movies</th>\n",
       "      <th>to</th>\n",
       "      <th>too</th>\n",
       "      <th>tv</th>\n",
       "      <th>watch</th>\n",
       "    </tr>\n",
       "  </thead>\n",
       "  <tbody>\n",
       "    <tr>\n",
       "      <th>0</th>\n",
       "      <td>0.000000</td>\n",
       "      <td>0.321556</td>\n",
       "      <td>0.000000</td>\n",
       "      <td>0.000000</td>\n",
       "      <td>0.000000</td>\n",
       "      <td>0.321556</td>\n",
       "      <td>0.379832</td>\n",
       "      <td>0.244551</td>\n",
       "      <td>0.643111</td>\n",
       "      <td>0.189916</td>\n",
       "      <td>0.321556</td>\n",
       "      <td>0.000000</td>\n",
       "      <td>0.189916</td>\n",
       "    </tr>\n",
       "    <tr>\n",
       "      <th>1</th>\n",
       "      <td>0.000000</td>\n",
       "      <td>0.000000</td>\n",
       "      <td>0.000000</td>\n",
       "      <td>0.000000</td>\n",
       "      <td>0.572929</td>\n",
       "      <td>0.000000</td>\n",
       "      <td>0.338381</td>\n",
       "      <td>0.000000</td>\n",
       "      <td>0.000000</td>\n",
       "      <td>0.338381</td>\n",
       "      <td>0.000000</td>\n",
       "      <td>0.572929</td>\n",
       "      <td>0.338381</td>\n",
       "    </tr>\n",
       "    <tr>\n",
       "      <th>2</th>\n",
       "      <td>0.464997</td>\n",
       "      <td>0.000000</td>\n",
       "      <td>0.464997</td>\n",
       "      <td>0.464997</td>\n",
       "      <td>0.000000</td>\n",
       "      <td>0.000000</td>\n",
       "      <td>0.274634</td>\n",
       "      <td>0.353642</td>\n",
       "      <td>0.000000</td>\n",
       "      <td>0.274634</td>\n",
       "      <td>0.000000</td>\n",
       "      <td>0.000000</td>\n",
       "      <td>0.274634</td>\n",
       "    </tr>\n",
       "  </tbody>\n",
       "</table>\n",
       "</div>"
      ],
      "text/plain": [
       "       also       and  football     games     james      john     likes  \\\n",
       "0  0.000000  0.321556  0.000000  0.000000  0.000000  0.321556  0.379832   \n",
       "1  0.000000  0.000000  0.000000  0.000000  0.572929  0.000000  0.338381   \n",
       "2  0.464997  0.000000  0.464997  0.464997  0.000000  0.000000  0.274634   \n",
       "\n",
       "       mary    movies        to       too        tv     watch  \n",
       "0  0.244551  0.643111  0.189916  0.321556  0.000000  0.189916  \n",
       "1  0.000000  0.000000  0.338381  0.000000  0.572929  0.338381  \n",
       "2  0.353642  0.000000  0.274634  0.000000  0.000000  0.274634  "
      ]
     },
     "execution_count": 15,
     "metadata": {},
     "output_type": "execute_result"
    }
   ],
   "source": [
    "from sklearn.feature_extraction.text import TfidfVectorizer\n",
    "corpus = [\n",
    "  'John likes to watch movies and Mary likes movies too',\n",
    "  'James likes to watch TV',\n",
    "  'Mary also likes to watch football games',  \n",
    "]\n",
    "tfidfv = TfidfVectorizer().fit(corpus)\n",
    "vocab = list(set(tfidfv.vocabulary_.keys())) # 단어장을 리스트로 저장\n",
    "vocab.sort() # 단어장을 알파벳 순으로 정렬\n",
    "\n",
    "# TF-IDF 행렬에 단어장을 데이터프레임의 열로 지정하여 데이터프레임 생성\n",
    "tfidf_ = pd.DataFrame(tfidfv.transform(corpus).toarray(), columns = vocab)\n",
    "tfidf_"
   ]
  },
  {
   "cell_type": "markdown",
   "id": "canadian-merchant",
   "metadata": {},
   "source": [
    "# 3-8. LSA와 LDA (1) LSA"
   ]
  },
  {
   "cell_type": "markdown",
   "id": "negative-envelope",
   "metadata": {},
   "source": [
    "이때까지 배운 Bag of Words를 기반으로 한 표현 방법(DTM과 TF-IDF 행렬)은 근본적으로 단어의 의미를 벡터로 표현하지 못한다.  \n",
    "단어들의 빈도가 아닌 의미와 주제를 알고 싶다면 LSA(Latent Semantic Analysis)로 알 수 있다.  "
   ]
  },
  {
   "cell_type": "markdown",
   "id": "nutritional-detection",
   "metadata": {},
   "source": [
    "## LSA(Latent Semantic Analysis)"
   ]
  },
  {
   "cell_type": "markdown",
   "id": "intended-accused",
   "metadata": {},
   "source": [
    "잠재 의미 분석으로 해석되는 LSA는 문서들 관계를 찾아내는 자연어 처리 정보 **검색** 기술이다.  \n",
    "LSA를 사용하면 단어와 단어 사이, 문서와 문서 사이, 단어와 문서 사이의 의미적 유사성 점수를 찾아낼 수 있다.  "
   ]
  },
  {
   "cell_type": "markdown",
   "id": "moderate-bible",
   "metadata": {},
   "source": [
    "## 특잇값 분해"
   ]
  },
  {
   "cell_type": "markdown",
   "id": "stuck-findings",
   "metadata": {},
   "source": [
    "LSA를 이해하려면 먼저 선형대수학의 특잇값 분해(Singular Value Decompotion) 에 대해 이해해야 한다.  \n",
    "그리고 또 우선 행렬의 용어를 파악해야 한다.   \n",
    "\n",
    "[부록 : 행렬의 종류](https://bkshin.tistory.com/entry/%EB%A8%B8%EC%8B%A0%EB%9F%AC%EB%8B%9D-19-%ED%96%89%EB%A0%AC?category=1057680)  \n",
    "+ 단위 행렬 : 주대각선(trace) 성분이 모두 1이며 나머지 성분은 모두 0인 정사각행렬을 단위행렬\n",
    "+ 역행렬 : n차 정사각행렬 행렬 A에 대해 어떤 행렬을 곱했을 때, 결과 행렬이 단위 행렬\n",
    "***\n",
    "특잇값 분해(Singular Value Decomposition) 란 m × n 크기의 임의의 사각 행렬 A를 아래의 그림에서 Full SVD와 같이 특이 벡터(singular vector)의 행렬와 특잇값(singular value)의 대각행렬로 분해하는 것이다.  \n",
    "![](https://aiffelstaticprd.blob.core.windows.net/media/original_images/GN-2-L-9.png)"
   ]
  },
  {
   "cell_type": "markdown",
   "id": "filled-wilderness",
   "metadata": {},
   "source": [
    "+ [데이터 사이언스 스쿨: 특잇값 분해](https://datascienceschool.net/02%20mathematics/03.04%20%ED%8A%B9%EC%9E%87%EA%B0%92%20%EB%B6%84%ED%95%B4.html)  \n",
    "+ [Singular value decomposition 의 목적](https://www.youtube.com/watch?v=vxJ1MzfvL5w)  \n",
    "\n",
    "N×M  크기의 행렬 A를 다음과 같은 3개의 행렬의 곱으로 나타내는 것을 특이분해 or 특잇값 분해 라고 한다.  \n",
    "행렬 Σ의 대각성분들을 특잇값(singular value),   \n",
    "행렬 U의 열벡터들을 왼쪽 특이벡터(left singular vector),   \n",
    "행렬 V의 행벡터들을 오른쪽 특이벡터(right singular vector)라고 한다.\n",
    "\n",
    "이런 특잇값 분해 중에서 절단된 특잇값 분해(Truncated SVD)는  \n",
    "특잇값 가운데 가장 큰(다시 말해, 가장 중요한) t개만 남기고 해당 특잇값에 대응되는 특이 벡터(singular vector) 들로 행렬 A를 근사(approximate)하도록 하는 것이다. 이때 t는 하이퍼파라미터이다.    \n",
    "\n",
    "Truncated SVD를 수행하면 당연히 U행렬과 V행렬도 t열까지만 남는다. 이로 인해서 기존 행렬 A는 정확히 복구할 수 없게 된다.  \n",
    "t를 크게하면 기존 행렬 A의 정보를 많이 가져갈 수 있지만, 노이즈를 제거하려면 t를 작게 잡아야 한다.  "
   ]
  },
  {
   "cell_type": "markdown",
   "id": "simple-friendly",
   "metadata": {},
   "source": [
    "## LSA와 Truncated SVD"
   ]
  },
  {
   "cell_type": "markdown",
   "id": "hourly-metro",
   "metadata": {},
   "source": [
    "![](https://aiffelstaticprd.blob.core.windows.net/media/images/GN-2-L-10.max-800x600.png)  \n",
    "$$A=USV^T$$"
   ]
  },
  {
   "cell_type": "markdown",
   "id": "catholic-reasoning",
   "metadata": {},
   "source": [
    "앞의 그림과 달리 여기서는 하이퍼파라미터를 t를 k로 표현했다\n",
    "\n",
    "LSA는 DTM이나 TF-IDF 행렬 등에 Truncated SVD를 수행합니다. 이렇게 분해하여 얻은 행렬 3개  \n",
    "U -> 문서들과 관련된 의미들을 표현한 행렬  \n",
    "V^T -> 단어들과 관련된 의미를 표현한 행렬  \n",
    "S -> 각 의미의 중요도를 표현한 행렬   \n",
    "\n",
    "m을 문서의 수, n을 단어의 수라고 하였을 때, Truncated SVD를 통해 얻은 행렬 U_k는 m×k의 크기를 가진다. 문서 수는 줄어들지 않는다.  \n",
    "반대로 $V_k^T$는 k×n의 크기를 가지는 행렬  \n",
    "이 행렬의 각 열은 각 단어를 나타내는 m 차원의 단어 벡터가 됩니다-??? 왜 m차원?  \n",
    "$V_k^T$서는 k의 크기를 가지게 되었으니 벡터의 차원이 저차원으로 축소된 셈  \n",
    "차원을 축소하면서 잠재된 의미를 끌어내는 여러 방법은 '워드 임베딩'에서 더 배울 예정  \n",
    "\n",
    "DTM이나 TF-IDF 행렬에 Truncated SVD를 수행하고 얻은 $V_k^T$행렬의 k열은 전체 코퍼스로부터 얻어낸 k개의 주요 주제(topic)라고 간주할 수도 있습니다.-k개의 열이라는 뜻이겠지? "
   ]
  },
  {
   "cell_type": "markdown",
   "id": "coated-assets",
   "metadata": {},
   "source": [
    "# 3-9. LSA와 LDA (2) LSA 실습"
   ]
  },
  {
   "cell_type": "code",
   "execution_count": 16,
   "id": "square-strength",
   "metadata": {},
   "outputs": [],
   "source": [
    "import pandas as pd\n",
    "import numpy as np\n",
    "import urllib.request\n",
    "from sklearn.feature_extraction.text import CountVectorizer\n",
    "from sklearn.feature_extraction.text import TfidfVectorizer\n",
    "import nltk\n",
    "from nltk.corpus import stopwords\n",
    "from nltk.stem import WordNetLemmatizer"
   ]
  },
  {
   "cell_type": "markdown",
   "id": "english-prospect",
   "metadata": {},
   "source": [
    "NLTK 데이터셋을 다운로드하지 않은 상태라면 아래의 커맨드를 통해 다운로드해 줍니다. NLTK는 데이터셋을 다운로드해 주지 않으면 NLTK의 도구들이 제대로 동작하지 않습니다."
   ]
  },
  {
   "cell_type": "code",
   "execution_count": 17,
   "id": "thrown-paste",
   "metadata": {},
   "outputs": [
    {
     "name": "stderr",
     "output_type": "stream",
     "text": [
      "[nltk_data] Downloading package punkt to /home/aiffel-\n",
      "[nltk_data]     dj35/nltk_data...\n",
      "[nltk_data]   Package punkt is already up-to-date!\n",
      "[nltk_data] Downloading package wordnet to /home/aiffel-\n",
      "[nltk_data]     dj35/nltk_data...\n",
      "[nltk_data]   Package wordnet is already up-to-date!\n",
      "[nltk_data] Downloading package stopwords to /home/aiffel-\n",
      "[nltk_data]     dj35/nltk_data...\n",
      "[nltk_data]   Package stopwords is already up-to-date!\n"
     ]
    },
    {
     "data": {
      "text/plain": [
       "True"
      ]
     },
     "execution_count": 17,
     "metadata": {},
     "output_type": "execute_result"
    }
   ],
   "source": [
    "nltk.download('punkt')\n",
    "nltk.download('wordnet')\n",
    "nltk.download('stopwords')"
   ]
  },
  {
   "cell_type": "markdown",
   "id": "romance-moral",
   "metadata": {},
   "source": [
    "## 데이터 다운로드 및 확인"
   ]
  },
  {
   "cell_type": "code",
   "execution_count": 18,
   "id": "descending-elder",
   "metadata": {},
   "outputs": [
    {
     "data": {
      "text/plain": [
       "('/home/aiffel-dj35/aiffel/topic_modelling/data/abcnews-date-text.csv',\n",
       " <http.client.HTTPMessage at 0x7fae8fd314d0>)"
      ]
     },
     "execution_count": 18,
     "metadata": {},
     "output_type": "execute_result"
    }
   ],
   "source": [
    "# data 다운로드\n",
    "import os\n",
    "\n",
    "csv_filename = os.getenv('HOME')+'/aiffel/topic_modelling/data/abcnews-date-text.csv'\n",
    "\n",
    "urllib.request.urlretrieve(\"https://raw.githubusercontent.com/franciscadias/data/master/abcnews-date-text.csv\", \n",
    "                           filename=csv_filename)"
   ]
  },
  {
   "cell_type": "code",
   "execution_count": 19,
   "id": "correct-bulgarian",
   "metadata": {},
   "outputs": [
    {
     "name": "stdout",
     "output_type": "stream",
     "text": [
      "1082168\n"
     ]
    }
   ],
   "source": [
    "# df에 저장\n",
    "data = pd.read_csv(csv_filename, error_bad_lines=False)\n",
    "print(len(data))"
   ]
  },
  {
   "cell_type": "code",
   "execution_count": 20,
   "id": "identical-token",
   "metadata": {},
   "outputs": [
    {
     "data": {
      "text/html": [
       "<div>\n",
       "<style scoped>\n",
       "    .dataframe tbody tr th:only-of-type {\n",
       "        vertical-align: middle;\n",
       "    }\n",
       "\n",
       "    .dataframe tbody tr th {\n",
       "        vertical-align: top;\n",
       "    }\n",
       "\n",
       "    .dataframe thead th {\n",
       "        text-align: right;\n",
       "    }\n",
       "</style>\n",
       "<table border=\"1\" class=\"dataframe\">\n",
       "  <thead>\n",
       "    <tr style=\"text-align: right;\">\n",
       "      <th></th>\n",
       "      <th>publish_date</th>\n",
       "      <th>headline_text</th>\n",
       "    </tr>\n",
       "  </thead>\n",
       "  <tbody>\n",
       "    <tr>\n",
       "      <th>0</th>\n",
       "      <td>20030219</td>\n",
       "      <td>aba decides against community broadcasting lic...</td>\n",
       "    </tr>\n",
       "    <tr>\n",
       "      <th>1</th>\n",
       "      <td>20030219</td>\n",
       "      <td>act fire witnesses must be aware of defamation</td>\n",
       "    </tr>\n",
       "    <tr>\n",
       "      <th>2</th>\n",
       "      <td>20030219</td>\n",
       "      <td>a g calls for infrastructure protection summit</td>\n",
       "    </tr>\n",
       "    <tr>\n",
       "      <th>3</th>\n",
       "      <td>20030219</td>\n",
       "      <td>air nz staff in aust strike for pay rise</td>\n",
       "    </tr>\n",
       "    <tr>\n",
       "      <th>4</th>\n",
       "      <td>20030219</td>\n",
       "      <td>air nz strike to affect australian travellers</td>\n",
       "    </tr>\n",
       "  </tbody>\n",
       "</table>\n",
       "</div>"
      ],
      "text/plain": [
       "   publish_date                                      headline_text\n",
       "0      20030219  aba decides against community broadcasting lic...\n",
       "1      20030219     act fire witnesses must be aware of defamation\n",
       "2      20030219     a g calls for infrastructure protection summit\n",
       "3      20030219           air nz staff in aust strike for pay rise\n",
       "4      20030219      air nz strike to affect australian travellers"
      ]
     },
     "execution_count": 20,
     "metadata": {},
     "output_type": "execute_result"
    }
   ],
   "source": [
    "data.head()"
   ]
  },
  {
   "cell_type": "code",
   "execution_count": 21,
   "id": "coated-trinity",
   "metadata": {},
   "outputs": [
    {
     "data": {
      "text/html": [
       "<div>\n",
       "<style scoped>\n",
       "    .dataframe tbody tr th:only-of-type {\n",
       "        vertical-align: middle;\n",
       "    }\n",
       "\n",
       "    .dataframe tbody tr th {\n",
       "        vertical-align: top;\n",
       "    }\n",
       "\n",
       "    .dataframe thead th {\n",
       "        text-align: right;\n",
       "    }\n",
       "</style>\n",
       "<table border=\"1\" class=\"dataframe\">\n",
       "  <thead>\n",
       "    <tr style=\"text-align: right;\">\n",
       "      <th></th>\n",
       "      <th>headline_text</th>\n",
       "    </tr>\n",
       "  </thead>\n",
       "  <tbody>\n",
       "    <tr>\n",
       "      <th>0</th>\n",
       "      <td>aba decides against community broadcasting lic...</td>\n",
       "    </tr>\n",
       "    <tr>\n",
       "      <th>1</th>\n",
       "      <td>act fire witnesses must be aware of defamation</td>\n",
       "    </tr>\n",
       "    <tr>\n",
       "      <th>2</th>\n",
       "      <td>a g calls for infrastructure protection summit</td>\n",
       "    </tr>\n",
       "    <tr>\n",
       "      <th>3</th>\n",
       "      <td>air nz staff in aust strike for pay rise</td>\n",
       "    </tr>\n",
       "    <tr>\n",
       "      <th>4</th>\n",
       "      <td>air nz strike to affect australian travellers</td>\n",
       "    </tr>\n",
       "  </tbody>\n",
       "</table>\n",
       "</div>"
      ],
      "text/plain": [
       "                                       headline_text\n",
       "0  aba decides against community broadcasting lic...\n",
       "1     act fire witnesses must be aware of defamation\n",
       "2     a g calls for infrastructure protection summit\n",
       "3           air nz staff in aust strike for pay rise\n",
       "4      air nz strike to affect australian travellers"
      ]
     },
     "execution_count": 21,
     "metadata": {},
     "output_type": "execute_result"
    }
   ],
   "source": [
    "# 필요한 headline_text만 별도 저장\n",
    "text = data[['headline_text']]\n",
    "text.head()"
   ]
  },
  {
   "cell_type": "code",
   "execution_count": 22,
   "id": "mysterious-skill",
   "metadata": {},
   "outputs": [
    {
     "data": {
      "text/plain": [
       "headline_text    1054983\n",
       "dtype: int64"
      ]
     },
     "execution_count": 22,
     "metadata": {},
     "output_type": "execute_result"
    }
   ],
   "source": [
    "# 중복 확인\n",
    "text.nunique() # 중복을 제외하고 유일한 시퀀스를 가지는 샘플의 개수를 출력"
   ]
  },
  {
   "cell_type": "code",
   "execution_count": 23,
   "id": "bright-guard",
   "metadata": {},
   "outputs": [
    {
     "name": "stdout",
     "output_type": "stream",
     "text": [
      "1054983\n"
     ]
    },
    {
     "name": "stderr",
     "output_type": "stream",
     "text": [
      "/home/aiffel-dj35/anaconda3/envs/aiffel/lib/python3.7/site-packages/ipykernel_launcher.py:2: SettingWithCopyWarning: \n",
      "A value is trying to be set on a copy of a slice from a DataFrame\n",
      "\n",
      "See the caveats in the documentation: https://pandas.pydata.org/pandas-docs/stable/user_guide/indexing.html#returning-a-view-versus-a-copy\n",
      "  \n"
     ]
    }
   ],
   "source": [
    "# 중복 샘플 제거\n",
    "text.drop_duplicates(inplace=True) # 중복 샘플 제거\n",
    "text = text.reset_index(drop=True)\n",
    "print(len(text)) # 중복 제거 후 샘플 개수"
   ]
  },
  {
   "cell_type": "markdown",
   "id": "killing-trial",
   "metadata": {},
   "source": [
    "## 데이터 정제 및 정규화"
   ]
  },
  {
   "cell_type": "markdown",
   "id": "minus-revolution",
   "metadata": {},
   "source": [
    "NLTK의 토크나이저를 이용해 전체 텍스트 데이터에 대해서 단어 토큰화를 수행하고, NLTK가 제공하는 불용어 리스트를 사용하여 불용어를 제거"
   ]
  },
  {
   "cell_type": "code",
   "execution_count": 24,
   "id": "champion-summary",
   "metadata": {},
   "outputs": [
    {
     "data": {
      "text/html": [
       "<div>\n",
       "<style scoped>\n",
       "    .dataframe tbody tr th:only-of-type {\n",
       "        vertical-align: middle;\n",
       "    }\n",
       "\n",
       "    .dataframe tbody tr th {\n",
       "        vertical-align: top;\n",
       "    }\n",
       "\n",
       "    .dataframe thead th {\n",
       "        text-align: right;\n",
       "    }\n",
       "</style>\n",
       "<table border=\"1\" class=\"dataframe\">\n",
       "  <thead>\n",
       "    <tr style=\"text-align: right;\">\n",
       "      <th></th>\n",
       "      <th>headline_text</th>\n",
       "    </tr>\n",
       "  </thead>\n",
       "  <tbody>\n",
       "    <tr>\n",
       "      <th>0</th>\n",
       "      <td>[aba, decides, community, broadcasting, licence]</td>\n",
       "    </tr>\n",
       "    <tr>\n",
       "      <th>1</th>\n",
       "      <td>[act, fire, witnesses, must, aware, defamation]</td>\n",
       "    </tr>\n",
       "    <tr>\n",
       "      <th>2</th>\n",
       "      <td>[g, calls, infrastructure, protection, summit]</td>\n",
       "    </tr>\n",
       "    <tr>\n",
       "      <th>3</th>\n",
       "      <td>[air, nz, staff, aust, strike, pay, rise]</td>\n",
       "    </tr>\n",
       "    <tr>\n",
       "      <th>4</th>\n",
       "      <td>[air, nz, strike, affect, australian, travellers]</td>\n",
       "    </tr>\n",
       "  </tbody>\n",
       "</table>\n",
       "</div>"
      ],
      "text/plain": [
       "                                       headline_text\n",
       "0   [aba, decides, community, broadcasting, licence]\n",
       "1    [act, fire, witnesses, must, aware, defamation]\n",
       "2     [g, calls, infrastructure, protection, summit]\n",
       "3          [air, nz, staff, aust, strike, pay, rise]\n",
       "4  [air, nz, strike, affect, australian, travellers]"
      ]
     },
     "execution_count": 24,
     "metadata": {},
     "output_type": "execute_result"
    }
   ],
   "source": [
    "# 시간 좀 걸린다.\n",
    "# NLTK 토크나이저를 이용해서 토큰화\n",
    "text['headline_text'] = text.apply(lambda row: nltk.word_tokenize(row['headline_text']), axis=1)\n",
    "\n",
    "# 불용어 제거\n",
    "stop_words = stopwords.words('english')\n",
    "text['headline_text'] = text['headline_text'].apply(lambda x: [word for word in x if word not in (stop_words)])\n",
    "\n",
    "text.head()"
   ]
  },
  {
   "cell_type": "code",
   "execution_count": 25,
   "id": "hindu-wealth",
   "metadata": {},
   "outputs": [
    {
     "name": "stdout",
     "output_type": "stream",
     "text": [
      "0     [aba, decide, community, broadcast, licence]\n",
      "1    [act, fire, witness, must, aware, defamation]\n",
      "2       [call, infrastructure, protection, summit]\n",
      "3            [air, staff, aust, strike, pay, rise]\n",
      "4    [air, strike, affect, australian, travellers]\n",
      "Name: headline_text, dtype: object\n"
     ]
    }
   ],
   "source": [
    "# 단어 정규화. 3인칭 단수 표현 -> 1인칭 변환, 과거형 동사 -> 현재형 동사 등을 수행한다.\n",
    "text['headline_text'] = text['headline_text'].apply(lambda x: [WordNetLemmatizer().lemmatize(word, pos='v') for word in x])\n",
    "\n",
    "# 길이가 1 ~ 2인 단어는 제거.\n",
    "text = text['headline_text'].apply(lambda x: [word for word in x if len(word) > 2])\n",
    "print(text[:5])"
   ]
  },
  {
   "cell_type": "markdown",
   "id": "magnetic-small",
   "metadata": {},
   "source": [
    "## 역토큰화 및 DTM 생성"
   ]
  },
  {
   "cell_type": "markdown",
   "id": "exact-brain",
   "metadata": {},
   "source": [
    "DTM을 생성하는 CountVectorizer 또는 TF-IDF 행렬을 생성하는 TfidfVectorizer의 입력으로 사용하기 위해서 토큰화 과정을 역으로 되돌리는 역토큰화(detokenization) "
   ]
  },
  {
   "cell_type": "code",
   "execution_count": 26,
   "id": "missing-manchester",
   "metadata": {},
   "outputs": [],
   "source": [
    "# 역토큰화 (토큰화 작업을 역으로 수행)\n",
    "detokenized_doc = []\n",
    "for i in range(len(text)):\n",
    "    t = ' '.join(text[i])\n",
    "    detokenized_doc.append(t)\n",
    "\n",
    "train_data = detokenized_doc"
   ]
  },
  {
   "cell_type": "code",
   "execution_count": 27,
   "id": "blocked-tsunami",
   "metadata": {},
   "outputs": [
    {
     "data": {
      "text/plain": [
       "['aba decide community broadcast licence',\n",
       " 'act fire witness must aware defamation',\n",
       " 'call infrastructure protection summit',\n",
       " 'air staff aust strike pay rise',\n",
       " 'air strike affect australian travellers']"
      ]
     },
     "execution_count": 27,
     "metadata": {},
     "output_type": "execute_result"
    }
   ],
   "source": [
    "train_data[:5]"
   ]
  },
  {
   "cell_type": "code",
   "execution_count": 28,
   "id": "exclusive-fiber",
   "metadata": {},
   "outputs": [],
   "source": [
    "# CountVectorizer를 사용하여 5000개 단어만 DTM을 생성\n",
    "c_vectorizer = CountVectorizer(stop_words='english', max_features = 5000)\n",
    "document_term_matrix = c_vectorizer.fit_transform(train_data)"
   ]
  },
  {
   "cell_type": "code",
   "execution_count": 29,
   "id": "sporting-packaging",
   "metadata": {},
   "outputs": [
    {
     "name": "stdout",
     "output_type": "stream",
     "text": [
      "행렬의 크기 : (1054983, 5000)\n"
     ]
    }
   ],
   "source": [
    "# DTM 크기 : 문서의 수 × 단어 집합의 크기\n",
    "print('행렬의 크기 :',document_term_matrix.shape)"
   ]
  },
  {
   "cell_type": "markdown",
   "id": "compliant-witch",
   "metadata": {},
   "source": [
    "## scikit-learn TruncatedSVD 활용"
   ]
  },
  {
   "cell_type": "markdown",
   "id": "commercial-travel",
   "metadata": {},
   "source": [
    "토픽 수(k)는 10으로 진행  \n",
    "$V_k^T$가 단어의수k×(단어의 수)의 크기를 가지도록 DTM에 TruncatedSVD를 수행  \n",
    "참고 : [sklearn.decomposition.TruncatedSVD.fit_transform()](https://scikit-learn.org/stable/modules/generated/sklearn.decomposition.TruncatedSVD.html#sklearn.decomposition.TruncatedSVD.fit_transform)  "
   ]
  },
  {
   "cell_type": "code",
   "execution_count": 30,
   "id": "useful-divorce",
   "metadata": {},
   "outputs": [
    {
     "data": {
      "text/plain": [
       "array([[ 1.20435586e-02, -3.60396851e-03,  1.82318910e-02, ...,\n",
       "         1.99252235e-03, -3.59258396e-03, -8.42601765e-03],\n",
       "       [ 2.90383637e-02, -1.08451790e-02,  1.81956169e-02, ...,\n",
       "         1.65831752e-03, -9.70252686e-03,  6.13298569e-03],\n",
       "       [ 5.03081315e-03, -1.99017370e-03,  9.73685635e-03, ...,\n",
       "        -2.38847992e-03, -7.61152027e-05, -2.26879601e-03],\n",
       "       ...,\n",
       "       [ 2.96841788e-02,  4.43160298e-03,  2.49225275e-02, ...,\n",
       "         2.68799259e-02,  1.31290567e-02,  1.39258775e-02],\n",
       "       [ 6.15027930e-02, -2.36587528e-03,  1.34467533e-01, ...,\n",
       "         7.43401140e-01,  1.01391633e+00, -4.05011069e-02],\n",
       "       [ 7.13884639e-02,  2.82978562e-02,  5.04014380e-04, ...,\n",
       "         1.23750361e-02,  4.27241771e-02,  2.58006559e-02]])"
      ]
     },
     "execution_count": 30,
     "metadata": {},
     "output_type": "execute_result"
    }
   ],
   "source": [
    "from sklearn.decomposition import TruncatedSVD\n",
    "\n",
    "n_topics = 10\n",
    "lsa_model = TruncatedSVD(n_components = n_topics)\n",
    "lsa_model.fit_transform(document_term_matrix)"
   ]
  },
  {
   "cell_type": "code",
   "execution_count": 31,
   "id": "sublime-grammar",
   "metadata": {},
   "outputs": [
    {
     "name": "stdout",
     "output_type": "stream",
     "text": [
      "(10, 5000)\n"
     ]
    }
   ],
   "source": [
    "print(np.shape(lsa_model.components_))"
   ]
  },
  {
   "cell_type": "code",
   "execution_count": 32,
   "id": "environmental-tower",
   "metadata": {},
   "outputs": [
    {
     "name": "stdout",
     "output_type": "stream",
     "text": [
      "Topic 1: [('police', 0.74636), ('man', 0.45352), ('charge', 0.21096), ('new', 0.1409), ('court', 0.11146)]\n",
      "Topic 2: [('man', 0.69378), ('charge', 0.30088), ('court', 0.16785), ('face', 0.11375), ('murder', 0.10659)]\n",
      "Topic 3: [('new', 0.837), ('plan', 0.23652), ('say', 0.18301), ('govt', 0.11154), ('council', 0.10865)]\n",
      "Topic 4: [('say', 0.73821), ('plan', 0.35956), ('govt', 0.1675), ('council', 0.12765), ('fund', 0.07471)]\n",
      "Topic 5: [('plan', 0.73245), ('council', 0.17341), ('govt', 0.14825), ('urge', 0.07991), ('water', 0.07656)]\n",
      "Topic 6: [('govt', 0.53738), ('court', 0.2836), ('urge', 0.25478), ('fund', 0.2132), ('face', 0.18053)]\n",
      "Topic 7: [('charge', 0.53735), ('court', 0.4219), ('face', 0.33006), ('plan', 0.13133), ('murder', 0.11667)]\n",
      "Topic 8: [('win', 0.55144), ('court', 0.43034), ('kill', 0.19726), ('face', 0.11179), ('crash', 0.08463)]\n",
      "Topic 9: [('win', 0.7035), ('charge', 0.37321), ('australia', 0.1102), ('cup', 0.08823), ('world', 0.08002)]\n",
      "Topic 10: [('kill', 0.49316), ('crash', 0.42698), ('charge', 0.19411), ('car', 0.15486), ('plan', 0.12126)]\n"
     ]
    }
   ],
   "source": [
    "# 각 행을 전체 코퍼스의 k개의 주제(topic)로 판단하고 각 주제에서 n개씩 단어를 출력\n",
    "terms = c_vectorizer.get_feature_names() # 단어 집합. 5,000개의 단어가 저장됨.\n",
    "\n",
    "def get_topics(components, feature_names, n=5):\n",
    "    for idx, topic in enumerate(components):\n",
    "        print(\"Topic %d:\" % (idx+1), [(feature_names[i], topic[i].round(5)) for i in topic.argsort()[:-n - 1:-1]])\n",
    "get_topics(lsa_model.components_, terms)"
   ]
  },
  {
   "cell_type": "markdown",
   "id": "independent-offer",
   "metadata": {},
   "source": [
    "# 3-10. LSA와 LDA (3) LDA"
   ]
  },
  {
   "cell_type": "markdown",
   "id": "moderate-emperor",
   "metadata": {},
   "source": [
    "문서 집합에서 토픽을 찾아낸 프로세스를 Topic Modelling이라고 한다. 많은 문서에서 주요 주제를 알아낼 때 중요.  \n",
    "토픽 모델링의 또 다른 대표적인 알고리즘 중 하나는 잠재 디리클레 할당(Latent Dirichlet Allocation, LDA)이다.  \n",
    "LDA는 우선 문서들은 토픽들의 혼합으로 구성되어 있으며, 토픽들은 확률 분포에 기반하여 단어들을 생성한다고 가정. 그리고 데이터가 주어지면, LDA는 이 가정에 따라 단어들의 분포로부터 문서가 생성되는 과정을 역추적해 문서의 토픽을 찾아냅니다. - ??? 약간 이해가 덜 감"
   ]
  },
  {
   "cell_type": "markdown",
   "id": "protecting-aggregate",
   "metadata": {},
   "source": [
    "## LDA(Latent Dirichlet Allocation) 시뮬레이션"
   ]
  },
  {
   "cell_type": "markdown",
   "id": "alien-mechanism",
   "metadata": {},
   "source": [
    "시뮬레이션 웹 사이트 : [LDA Topic Modeling Simulation](https://lettier.com/projects/lda-topic-modeling/)  \n",
    "실행하면 두개의 행렬이 출력되는데  \n",
    "첫 번째 행렬 : 단어\\*토픽\n",
    "두 번째 행렬 : 문서\\*토픽\n"
   ]
  },
  {
   "attachments": {
    "image.png": {
     "image/png": "[encoded data removed]"
    }
   },
   "cell_type": "markdown",
   "id": "excellent-creativity",
   "metadata": {},
   "source": [
    "![image.png](attachment:image.png)"
   ]
  },
  {
   "cell_type": "markdown",
   "id": "electrical-portland",
   "metadata": {},
   "source": [
    "## LDA(Latent Dirichlet Allocation)의 두 가지 결과"
   ]
  },
  {
   "cell_type": "markdown",
   "id": "material-mathematics",
   "metadata": {},
   "source": [
    "위의 실습처럼 LDA는 각 토픽의 단어 분포, 각 문서의 토픽 분포를 추정  \n",
    "LDA는 단어들의 분포로부터 해당 문서의 토픽 분포를 추정"
   ]
  },
  {
   "cell_type": "markdown",
   "id": "excess-inspection",
   "metadata": {},
   "source": [
    "## LDA의 가정"
   ]
  },
  {
   "cell_type": "markdown",
   "id": "russian-trail",
   "metadata": {},
   "source": [
    "'나는 이 문서를 작성하기 위해서 이런 주제들을 넣을거고, 이런 주제들을 위해서는 이런 단어들을 넣을 거야.' 라는 가정하에서 토픽을 뽑아낸다.  \n",
    "'단어' -> '주제' -> '문서' (단어들의 순서는 무시)  \n",
    "[LDA 동영상](https://serviceapi.nmv.naver.com/flash/convertIframeTag.nhn?vid=A008B9E1EAFC02C99F92928155487839090E&outKey=V1210ad4156cf64ce0c6a3e18cecaae499f6528784c999ca6541c3e18cecaae499f65&width=544&height=306) 시청  \n",
    "\n",
    "[위키독스: 잠재 디리클레 할당](https://wikidocs.net/30708)  \n",
    ">LDA는 토픽의 제목을 정해주지 않지만, 알고리즘의 사용자는 위 결과로부터 두 토픽을 추측해낼 수 있다.  "
   ]
  },
  {
   "cell_type": "markdown",
   "id": "instructional-rover",
   "metadata": {},
   "source": [
    "## LSA vs. LDA\n",
    "LSA는 DTM을 차원 축소하여 축소 차원에서 근접 단어들을 토픽으로 묶는 반면에, LDA는 단어가 특정 토픽에 존재할 확률과 문서에 특정 토픽이 존재할 확률을 결합 확률로 추정하여 토픽을 추출합니다."
   ]
  },
  {
   "cell_type": "markdown",
   "id": "official-apparel",
   "metadata": {},
   "source": [
    "# 3-11. LSA와 LDA (4) LDA 실습"
   ]
  },
  {
   "cell_type": "markdown",
   "id": "referenced-baltimore",
   "metadata": {},
   "source": [
    "역토큰화 과정을 거친 데이터 사용"
   ]
  },
  {
   "cell_type": "markdown",
   "id": "painful-policy",
   "metadata": {},
   "source": [
    "## TF-IDF 행렬 생성"
   ]
  },
  {
   "cell_type": "markdown",
   "id": "advanced-particular",
   "metadata": {},
   "source": [
    "LDA는 DTM 또는 TF-IDF를 입력으로 받을 수 있다. 여기서는 TF-IDF 사용 예정"
   ]
  },
  {
   "cell_type": "code",
   "execution_count": 33,
   "id": "extreme-account",
   "metadata": {},
   "outputs": [
    {
     "name": "stdout",
     "output_type": "stream",
     "text": [
      "행렬의 크기 : (1054983, 5000)\n"
     ]
    }
   ],
   "source": [
    "# 상위 5,000개의 단어만 사용\n",
    "tfidf_vectorizer = TfidfVectorizer(stop_words='english', max_features= 5000)\n",
    "tf_idf_matrix = tfidf_vectorizer.fit_transform(train_data)\n",
    "\n",
    "# TF-IDF 행렬의 크기를 확인해봅시다.\n",
    "print('행렬의 크기 :',tf_idf_matrix.shape)"
   ]
  },
  {
   "cell_type": "markdown",
   "id": "formed-marking",
   "metadata": {},
   "source": [
    "## scikit-learn LDA Model 활용"
   ]
  },
  {
   "cell_type": "markdown",
   "id": "human-basin",
   "metadata": {},
   "source": [
    "토픽의 개수는 10개로 정했습니다. 이는 n_components의 인자값"
   ]
  },
  {
   "cell_type": "code",
   "execution_count": 34,
   "id": "attempted-chicken",
   "metadata": {},
   "outputs": [
    {
     "data": {
      "text/plain": [
       "array([[0.0335099 , 0.0335099 , 0.0335099 , ..., 0.17024867, 0.0335099 ,\n",
       "        0.0335099 ],\n",
       "       [0.03365631, 0.03365631, 0.03365631, ..., 0.03365631, 0.03365631,\n",
       "        0.03365631],\n",
       "       [0.25184095, 0.0366096 , 0.0366096 , ..., 0.0366096 , 0.0366096 ,\n",
       "        0.0366096 ],\n",
       "       ...,\n",
       "       [0.26687206, 0.02914502, 0.02914502, ..., 0.13007484, 0.02916018,\n",
       "        0.28739608],\n",
       "       [0.10378115, 0.02637829, 0.12325014, ..., 0.02637829, 0.02637829,\n",
       "        0.02637829],\n",
       "       [0.03376055, 0.03376055, 0.2255442 , ..., 0.03376055, 0.03376055,\n",
       "        0.03376055]])"
      ]
     },
     "execution_count": 34,
     "metadata": {},
     "output_type": "execute_result"
    }
   ],
   "source": [
    "# 시간 좀 걸린다.\n",
    "from sklearn.decomposition import LatentDirichletAllocation\n",
    "lda_model = LatentDirichletAllocation(n_components=10, learning_method='online', random_state=777, max_iter=1)\n",
    "lda_model.fit_transform(tf_idf_matrix)"
   ]
  },
  {
   "cell_type": "code",
   "execution_count": 35,
   "id": "baking-airfare",
   "metadata": {},
   "outputs": [
    {
     "name": "stdout",
     "output_type": "stream",
     "text": [
      "(10, 5000)\n"
     ]
    }
   ],
   "source": [
    "# 행렬 크기 확인\n",
    "print(np.shape(lda_model.components_))"
   ]
  },
  {
   "cell_type": "code",
   "execution_count": 36,
   "id": "talented-aurora",
   "metadata": {},
   "outputs": [],
   "source": [
    "# # LDA의 결과 토픽과 각 단어의 비중을 출력합시다.\n",
    "# # lsa 베낀거\n",
    "# # from sklearn.decomposition import TruncatedSVD\n",
    "\n",
    "# n_topics = 10\n",
    "# lda_model = TruncatedSVD(n_components = n_topics)\n",
    "# lda_model.fit_transform(document_term_matrix)"
   ]
  },
  {
   "cell_type": "code",
   "execution_count": 37,
   "id": "departmental-thailand",
   "metadata": {},
   "outputs": [
    {
     "name": "stdout",
     "output_type": "stream",
     "text": [
      "Topic 1: [('australia', 9359.06334), ('sydney', 5854.97288), ('attack', 4784.76322), ('change', 4193.63035), ('year', 3924.88997)]\n",
      "Topic 2: [('government', 6344.07413), ('charge', 5947.12292), ('man', 4519.7974), ('state', 3658.16422), ('live', 3625.10473)]\n",
      "Topic 3: [('australian', 7666.65651), ('say', 7561.01807), ('police', 5513.22932), ('home', 4048.38409), ('report', 3796.04446)]\n",
      "Topic 4: [('melbourne', 5298.35047), ('south', 4844.59835), ('death', 4281.78433), ('china', 3214.44581), ('women', 3029.28443)]\n",
      "Topic 5: [('win', 5704.0914), ('canberra', 4322.0963), ('die', 4025.63057), ('open', 3771.65243), ('warn', 3577.47151)]\n",
      "Topic 6: [('court', 5246.3124), ('world', 4536.86331), ('country', 4166.34794), ('woman', 3983.97748), ('crash', 3793.50267)]\n",
      "Topic 7: [('election', 5418.5038), ('adelaide', 4864.95604), ('house', 4478.6135), ('school', 3966.82676), ('2016', 3955.11155)]\n",
      "Topic 8: [('trump', 8189.58575), ('new', 6625.2724), ('north', 3705.40987), ('rural', 3521.42659), ('donald', 3356.26657)]\n",
      "Topic 9: [('perth', 4552.8151), ('kill', 4093.61782), ('break', 2695.71958), ('budget', 2596.93268), ('children', 2586.01957)]\n",
      "Topic 10: [('queensland', 5552.68506), ('coast', 3825.32603), ('tasmanian', 3550.75997), ('shoot', 3185.71575), ('service', 2695.21462)]\n"
     ]
    }
   ],
   "source": [
    "# LDA의 결과 토픽과 각 단어의 비중을 출력합시다\n",
    "terms = tfidf_vectorizer.get_feature_names() # 단어 집합. 5,000개의 단어가 저장됨.\n",
    "\n",
    "def get_topics(components, feature_names, n=5):\n",
    "    for idx, topic in enumerate(components):\n",
    "        print(\"Topic %d:\" % (idx+1), [(feature_names[i], topic[i].round(5)) for i in topic.argsort()[:-n - 1:-1]])\n",
    "\n",
    "get_topics(lda_model.components_, terms)"
   ]
  },
  {
   "cell_type": "markdown",
   "id": "intermediate-metallic",
   "metadata": {},
   "source": [
    "# 3-12. 텍스트 분포를 이용한 비지도 학습 토크나이저 (1) 형태소 분석기와 단어 미등록 문제\n"
   ]
  },
  {
   "cell_type": "markdown",
   "id": "hairy-official",
   "metadata": {},
   "source": [
    "지금까지는 띄어쓰기 단위의 단어 분포를 이용  \n",
    "이번에는 텍스트의 분포를 이용 -> 비지도 학습 토크나이저 알아보자  "
   ]
  },
  {
   "cell_type": "markdown",
   "id": "third-industry",
   "metadata": {},
   "source": [
    "## 형태소 분석기의 필요성"
   ]
  },
  {
   "cell_type": "markdown",
   "id": "amateur-plane",
   "metadata": {},
   "source": [
    "한국어는 하나의 어절이 어간 + 접사 로 이루어져 있는 교착어이다. 조사라는 품사는 이 교착어에만 있는거다.  \n",
    "그래서 영어처럼 띄어쓰기 단위 토큰화가 제대로 동작하지 않는다.  "
   ]
  },
  {
   "cell_type": "code",
   "execution_count": 38,
   "id": "adaptive-rental",
   "metadata": {},
   "outputs": [
    {
     "name": "stdout",
     "output_type": "stream",
     "text": [
      "['사과의', '놀라운', '효능이라는', '글을', '봤어.', '그래서', '오늘', '사과를', '먹으려고', '했는데', '사과가', '썩어서', '슈퍼에', '가서', '사과랑', '오렌지', '사', '왔어']\n"
     ]
    }
   ],
   "source": [
    "kor_text = \"사과의 놀라운 효능이라는 글을 봤어. 그래서 오늘 사과를 먹으려고 했는데 사과가 썩어서 슈퍼에 가서 사과랑 오렌지 사 왔어\"\n",
    "print(kor_text.split())"
   ]
  },
  {
   "cell_type": "markdown",
   "id": "continued-combining",
   "metadata": {},
   "source": [
    "위의 예시를 보면 '사과'라는 단어가 4번이 나왔는데, 띄어쓰기를 기준으로 하면 붙어있는 조사때문에 각각 다른 단어로 인식하는 문제가 있다. 이를 해결하기 위해 한국어는 '형태소 분석기'를 사용한다."
   ]
  },
  {
   "cell_type": "code",
   "execution_count": 39,
   "id": "stuffed-drawing",
   "metadata": {},
   "outputs": [
    {
     "name": "stdout",
     "output_type": "stream",
     "text": [
      "['사과', '의', '놀라운', '효능', '이라는', '글', '을', '봤어', '.', '그래서', '오늘', '사과', '를', '먹으려고', '했는데', '사과', '가', '썩어서', '슈퍼', '에', '가서', '사과', '랑', '오렌지', '사', '왔어']\n"
     ]
    }
   ],
   "source": [
    "# 형태소 분석기 Okt 사용\n",
    "from konlpy.tag import Okt\n",
    "tokenizer = Okt()\n",
    "print(tokenizer.morphs(kor_text))"
   ]
  },
  {
   "cell_type": "markdown",
   "id": "executed-fellow",
   "metadata": {},
   "source": [
    "## 미등록 단어 문제"
   ]
  },
  {
   "cell_type": "markdown",
   "id": "still-reward",
   "metadata": {},
   "source": [
    "예를 들어 '모두의연구소'를 하나의 단어로 인식하고 싶은데 Okt는 그렇지 못한다.  \n",
    "그렇다면 어떤 문자 시퀀스가 함께 자주 등장하는 빈도수가 높을 때, 해당 문자 시퀀스를 형태소로 인식하는 분석기가 고안되었고 그것이 바로 soynlp이다.  "
   ]
  },
  {
   "cell_type": "markdown",
   "id": "streaming-period",
   "metadata": {},
   "source": [
    "# 3-13. 텍스트 분포를 이용한 비지도 학습 토크나이저 (2) soynlp"
   ]
  },
  {
   "cell_type": "markdown",
   "id": "compliant-creation",
   "metadata": {},
   "source": [
    "soynlp는 품사 태깅, 형태소 분석 등을 지원하는 한국어 형태소 분석기   \n",
    "비지도 학습으로 형태소를 분석하고 위에서 말한 것과 같이 자주 등장하는 단어들의 시퀀스를 형태소로 분석한다.  \n",
    "(soynlp 형태소 분석기는 내부적으로 단어 점수표로 동작한다. 이 점수는 응집 확률(cohesion probability) 과 브랜칭 엔트로피(branching entropy) 를 활용)  "
   ]
  },
  {
   "cell_type": "markdown",
   "id": "invalid-hands",
   "metadata": {},
   "source": [
    "## soynlp 실습"
   ]
  },
  {
   "cell_type": "markdown",
   "id": "foreign-manchester",
   "metadata": {},
   "source": [
    "설치 먼저\n",
    "```\n",
    "$ pip install soynlp\n",
    "```\n"
   ]
  },
  {
   "cell_type": "code",
   "execution_count": 40,
   "id": "accompanied-aviation",
   "metadata": {},
   "outputs": [
    {
     "data": {
      "text/plain": [
       "('/home/aiffel-dj35/aiffel/topic_modelling/data/2016-10-20.txt',\n",
       " <http.client.HTTPMessage at 0x7fae830af510>)"
      ]
     },
     "execution_count": 40,
     "metadata": {},
     "output_type": "execute_result"
    }
   ],
   "source": [
    "# soynlp 깃허브에서 제공하는 예제 말뭉치를 다운로드\n",
    "import urllib.request\n",
    "\n",
    "txt_filename = os.getenv('HOME')+'/aiffel/topic_modelling/data/2016-10-20.txt'\n",
    "\n",
    "urllib.request.urlretrieve(\"https://raw.githubusercontent.com/lovit/soynlp/master/tutorials/2016-10-20.txt\",\\\n",
    "                            filename=txt_filename)"
   ]
  },
  {
   "cell_type": "code",
   "execution_count": 41,
   "id": "obvious-montana",
   "metadata": {},
   "outputs": [
    {
     "data": {
      "text/plain": [
       "30091"
      ]
     },
     "execution_count": 41,
     "metadata": {},
     "output_type": "execute_result"
    }
   ],
   "source": [
    "# 말 뭉치 -> 문서 단위로 분리\n",
    "from soynlp import DoublespaceLineCorpus\n",
    "\n",
    "# 말뭉치에 대해서 다수의 문서로 분리\n",
    "corpus = DoublespaceLineCorpus(txt_filename)\n",
    "len(corpus)"
   ]
  },
  {
   "cell_type": "code",
   "execution_count": 42,
   "id": "appointed-honey",
   "metadata": {},
   "outputs": [
    {
     "name": "stdout",
     "output_type": "stream",
     "text": [
      "19  1990  52 1 22\n",
      "오패산터널 총격전 용의자 검거 서울 연합뉴스 경찰 관계자들이 19일 오후 서울 강북구 오패산 터널 인근에서 사제 총기를 발사해 경찰을 살해한 용의자 성모씨를 검거하고 있다 성씨는 검거 당시 서바이벌 게임에서 쓰는 방탄조끼에 헬멧까지 착용한 상태였다 독자제공 영상 캡처 연합뉴스  서울 연합뉴스 김은경 기자 사제 총기로 경찰을 살해한 범인 성모 46 씨는 주도면밀했다  경찰에 따르면 성씨는 19일 오후 강북경찰서 인근 부동산 업소 밖에서 부동산업자 이모 67 씨가 나오기를 기다렸다 이씨와는 평소에도 말다툼을 자주 한 것으로 알려졌다  이씨가 나와 걷기 시작하자 성씨는 따라가면서 미리 준비해온 사제 총기를 이씨에게 발사했다 총알이 빗나가면서 이씨는 도망갔다 그 빗나간 총알은 지나가던 행인 71 씨의 배를 스쳤다  성씨는 강북서 인근 치킨집까지 이씨 뒤를 쫓으며 실랑이하다 쓰러뜨린 후 총기와 함께 가져온 망치로 이씨 머리를 때렸다  이 과정에서 오후 6시 20분께 강북구 번동 길 위에서 사람들이 싸우고 있다 총소리가 났다 는 등의 신고가 여러건 들어왔다  5분 후에 성씨의 전자발찌가 훼손됐다는 신고가 보호관찰소 시스템을 통해 들어왔다 성범죄자로 전자발찌를 차고 있던 성씨는 부엌칼로 직접 자신의 발찌를 끊었다  용의자 소지 사제총기 2정 서울 연합뉴스 임헌정 기자 서울 시내에서 폭행 용의자가 현장 조사를 벌이던 경찰관에게 사제총기를 발사해 경찰관이 숨졌다 19일 오후 6시28분 강북구 번동에서 둔기로 맞았다 는 폭행 피해 신고가 접수돼 현장에서 조사하던 강북경찰서 번동파출소 소속 김모 54 경위가 폭행 용의자 성모 45 씨가 쏜 사제총기에 맞고 쓰러진 뒤 병원에 옮겨졌으나 숨졌다 사진은 용의자가 소지한 사제총기  신고를 받고 번동파출소에서 김창호 54 경위 등 경찰들이 오후 6시 29분께 현장으로 출동했다 성씨는 그사이 부동산 앞에 놓아뒀던 가방을 챙겨 오패산 쪽으로 도망간 후였다  김 경위는 오패산 터널 입구 오른쪽의 급경사에서 성씨에게 접근하다가 오후 6시 33분께 풀숲에 숨은 성씨가 허공에 난사한 10여발의 총알 중 일부를 왼쪽 어깨 뒷부분에 맞고 쓰러졌다  김 경위는 구급차가 도착했을 때 이미 의식이 없었고 심폐소생술을 하며 병원으로 옮겨졌으나 총알이 폐를 훼손해 오후 7시 40분께 사망했다  김 경위는 외근용 조끼를 입고 있었으나 총알을 막기에는 역부족이었다  머리에 부상을 입은 이씨도 함께 병원으로 이송됐으나 생명에는 지장이 없는 것으로 알려졌다  성씨는 오패산 터널 밑쪽 숲에서 오후 6시 45분께 잡혔다  총격현장 수색하는 경찰들 서울 연합뉴스 이효석 기자 19일 오후 서울 강북구 오패산 터널 인근에서 경찰들이 폭행 용의자가 사제총기를 발사해 경찰관이 사망한 사건을 조사 하고 있다  총 때문에 쫓던 경관들과 민간인들이 몸을 숨겼는데 인근 신발가게 직원 이모씨가 다가가 성씨를 덮쳤고 이어 현장에 있던 다른 상인들과 경찰이 가세해 체포했다  성씨는 경찰에 붙잡힌 직후 나 자살하려고 한 거다 맞아 죽어도 괜찮다 고 말한 것으로 전해졌다  성씨 자신도 경찰이 발사한 공포탄 1발 실탄 3발 중 실탄 1발을 배에 맞았으나 방탄조끼를 입은 상태여서 부상하지는 않았다  경찰은 인근을 수색해 성씨가 만든 사제총 16정과 칼 7개를 압수했다 실제 폭발할지는 알 수 없는 요구르트병에 무언가를 채워두고 심지를 꽂은 사제 폭탄도 발견됐다  일부는 숲에서 발견됐고 일부는 성씨가 소지한 가방 안에 있었다\n",
      "테헤란 연합뉴스 강훈상 특파원 이용 승객수 기준 세계 최대 공항인 아랍에미리트 두바이국제공항은 19일 현지시간 이 공항을 이륙하는 모든 항공기의 탑승객은 삼성전자의 갤럭시노트7을 휴대하면 안 된다고 밝혔다  두바이국제공항은 여러 항공 관련 기구의 권고에 따라 안전성에 우려가 있는 스마트폰 갤럭시노트7을 휴대하고 비행기를 타면 안 된다 며 탑승 전 검색 중 발견되면 압수할 계획 이라고 발표했다  공항 측은 갤럭시노트7의 배터리가 폭발 우려가 제기된 만큼 이 제품을 갖고 공항 안으로 들어오지 말라고 이용객에 당부했다  이런 조치는 두바이국제공항 뿐 아니라 신공항인 두바이월드센터에도 적용된다  배터리 폭발문제로 회수된 갤럭시노트7 연합뉴스자료사진\n"
     ]
    }
   ],
   "source": [
    "# 몇 개만 출력\n",
    "i = 0\n",
    "for document in corpus:\n",
    "  if len(document) > 0:\n",
    "    print(document)\n",
    "    i = i+1\n",
    "  if i == 3:\n",
    "    break"
   ]
  },
  {
   "cell_type": "markdown",
   "id": "dimensional-lesson",
   "metadata": {},
   "source": [
    "기존 형태소 분석기와 다르게 soynlp는 학습 과정을 거쳐야 한다.  \n",
    "이는 전체 코퍼스로부터 응집 확률과 브랜칭 엔트로피 단어 점수표를 만드는 과정\n",
    "WordExtractor.extract()를 통해서 전체 코퍼스에 대해 단어 점수표를 계산한다.  \n"
   ]
  },
  {
   "cell_type": "code",
   "execution_count": 43,
   "id": "frank-ontario",
   "metadata": {},
   "outputs": [
    {
     "name": "stdout",
     "output_type": "stream",
     "text": [
      "training was done. used memory 2.638 Gb\n",
      "all cohesion probabilities was computed. # words = 223348\n",
      "all branching entropies was computed # words = 361598\n",
      "all accessor variety was computed # words = 361598\n"
     ]
    }
   ],
   "source": [
    "from soynlp.word import WordExtractor\n",
    "word_extractor = WordExtractor()\n",
    "word_extractor.train(corpus)\n",
    "word_score_table = word_extractor.extract()"
   ]
  },
  {
   "cell_type": "markdown",
   "id": "pharmaceutical-digit",
   "metadata": {},
   "source": [
    "## soynlp의 응집 확률(cohesion probability)"
   ]
  },
  {
   "cell_type": "markdown",
   "id": "small-discovery",
   "metadata": {},
   "source": [
    "응집 확률은 내부 문자열(substring)이 얼마나 응집하여 자주 등장하는지를 판단하는 척도  \n",
    "문자열을 문자 단위로 분리하여 내부 문자열을 만드는 과정에서 왼쪽부터 순서대로 문자를 추가하면서 각 문자열이 주어졌을 때 그다음 문자가 나올 확률을 계산하여 누적곱을 한 값"
   ]
  },
  {
   "cell_type": "markdown",
   "id": "korean-pattern",
   "metadata": {},
   "source": [
    "![](https://aiffelstaticprd.blob.core.windows.net/media/original_images/GN-2-L-14.png)"
   ]
  },
  {
   "cell_type": "markdown",
   "id": "dressed-people",
   "metadata": {},
   "source": [
    "위의 수식을 아래의 예제로 이해해보자.  \n",
    "'반포한강공원에'라는 7의 길이를 가진 문자 시퀀스에 대해서 각 내부 문자열의 스코어  \n",
    "![](https://aiffelstaticprd.blob.core.windows.net/media/images/GN-2-L-15.max-800x600.png)"
   ]
  },
  {
   "cell_type": "code",
   "execution_count": 44,
   "id": "micro-credit",
   "metadata": {},
   "outputs": [
    {
     "data": {
      "text/plain": [
       "0.08838002913645132"
      ]
     },
     "execution_count": 44,
     "metadata": {},
     "output_type": "execute_result"
    }
   ],
   "source": [
    "word_score_table[\"반포한\"].cohesion_forward"
   ]
  },
  {
   "cell_type": "code",
   "execution_count": 45,
   "id": "cognitive-graphics",
   "metadata": {},
   "outputs": [
    {
     "data": {
      "text/plain": [
       "0.19841268168224552"
      ]
     },
     "execution_count": 45,
     "metadata": {},
     "output_type": "execute_result"
    }
   ],
   "source": [
    "word_score_table[\"반포한강\"].cohesion_forward"
   ]
  },
  {
   "cell_type": "code",
   "execution_count": 46,
   "id": "adaptive-organic",
   "metadata": {},
   "outputs": [
    {
     "data": {
      "text/plain": [
       "0.2972877884078849"
      ]
     },
     "execution_count": 46,
     "metadata": {},
     "output_type": "execute_result"
    }
   ],
   "source": [
    "word_score_table[\"반포한강공\"].cohesion_forward"
   ]
  },
  {
   "cell_type": "code",
   "execution_count": 47,
   "id": "juvenile-appeal",
   "metadata": {},
   "outputs": [
    {
     "data": {
      "text/plain": [
       "0.37891487632839754"
      ]
     },
     "execution_count": 47,
     "metadata": {},
     "output_type": "execute_result"
    }
   ],
   "source": [
    "word_score_table[\"반포한강공원\"].cohesion_forward"
   ]
  },
  {
   "cell_type": "code",
   "execution_count": 48,
   "id": "responsible-ecuador",
   "metadata": {},
   "outputs": [
    {
     "data": {
      "text/plain": [
       "0.33492963377557666"
      ]
     },
     "execution_count": 48,
     "metadata": {},
     "output_type": "execute_result"
    }
   ],
   "source": [
    "word_score_table[\"반포한강공원에\"].cohesion_forward"
   ]
  },
  {
   "cell_type": "markdown",
   "id": "wrapped-vision",
   "metadata": {},
   "source": [
    "응집 확률이 최대화가 되는 내부 문자열 구간은 '반포한강공원'입니다. 다시 말해 '반포한강공원'이 하나의 단어일 확률이 높습니다."
   ]
  },
  {
   "cell_type": "markdown",
   "id": "enabling-craft",
   "metadata": {},
   "source": [
    "## soynlp의 브랜칭 엔트로피(branching entropy)"
   ]
  },
  {
   "cell_type": "markdown",
   "id": "prime-worth",
   "metadata": {},
   "source": [
    "브랜칭 엔트로피(Branching Entropy) 는 확률 분포의 엔트로피값을 사용해서 주어진 문자열 다음 문자의 등장 가능성을 판단하는 척도"
   ]
  },
  {
   "cell_type": "code",
   "execution_count": 49,
   "id": "celtic-breathing",
   "metadata": {},
   "outputs": [
    {
     "data": {
      "text/plain": [
       "1.6371694761537934"
      ]
     },
     "execution_count": 49,
     "metadata": {},
     "output_type": "execute_result"
    }
   ],
   "source": [
    "word_score_table[\"디스\"].right_branching_entropy"
   ]
  },
  {
   "cell_type": "code",
   "execution_count": 50,
   "id": "arctic-warning",
   "metadata": {},
   "outputs": [
    {
     "data": {
      "text/plain": [
       "-0.0"
      ]
     },
     "execution_count": 50,
     "metadata": {},
     "output_type": "execute_result"
    }
   ],
   "source": [
    "word_score_table[\"디스플\"].right_branching_entropy"
   ]
  },
  {
   "cell_type": "code",
   "execution_count": 51,
   "id": "underlying-external",
   "metadata": {},
   "outputs": [
    {
     "data": {
      "text/plain": [
       "-0.0"
      ]
     },
     "execution_count": 51,
     "metadata": {},
     "output_type": "execute_result"
    }
   ],
   "source": [
    "word_score_table[\"디스플레\"].right_branching_entropy"
   ]
  },
  {
   "cell_type": "code",
   "execution_count": 52,
   "id": "spanish-providence",
   "metadata": {},
   "outputs": [
    {
     "data": {
      "text/plain": [
       "3.1400392861792916"
      ]
     },
     "execution_count": 52,
     "metadata": {},
     "output_type": "execute_result"
    }
   ],
   "source": [
    "word_score_table[\"디스플레이\"].right_branching_entropy"
   ]
  },
  {
   "cell_type": "markdown",
   "id": "liquid-terrorist",
   "metadata": {},
   "source": [
    "하나의 단어가 끝나면 그 경계 부분부터 다시 브랜칭 엔트로피값이 증가한다. -> 이 값으로 단어 판단 가능  \n",
    "\n",
    "이렇게 응집 확률과 브랜칭 엔트로피 값 구해봤는데, 이 두가지 점수를 사용해서 토큰화를 해보자"
   ]
  },
  {
   "cell_type": "markdown",
   "id": "convertible-liver",
   "metadata": {},
   "source": [
    "## soynlp의 (1) LTokenizer"
   ]
  },
  {
   "cell_type": "markdown",
   "id": "exterior-prototype",
   "metadata": {},
   "source": [
    "띄어쓰기 단위로 잘 나뉜 문장은 L 토크나이저(LTokenizer)를 사용하면 좋습니다.\n",
    "\n",
    "한국어는 띄어쓰기 단위로 나눈 어절 토큰은 주로 L 토큰 + R 토큰의 형식을 가질 때가 많습니다. 예를 들어서 '공원에'는 '공원 + 에'로 나눌 수 있겠지요. 또는 '공부하는'은 '공부 + 하는'으로 나눌 수도 있을 것입니다. L 토크나이저는 L 토큰 + R 토큰으로 나누되, 분리 기준으로 점수가 가장 높은 L 토큰을 찾아내는 원리를 가지고 있습니다."
   ]
  },
  {
   "cell_type": "code",
   "execution_count": 53,
   "id": "jewish-crowd",
   "metadata": {},
   "outputs": [
    {
     "data": {
      "text/plain": [
       "[('국제사회', '와'), ('우리', '의'), ('노력', '들로'), ('범죄', '를'), ('척결', '하자')]"
      ]
     },
     "execution_count": 53,
     "metadata": {},
     "output_type": "execute_result"
    }
   ],
   "source": [
    "from soynlp.tokenizer import LTokenizer\n",
    "\n",
    "scores = {word:score.cohesion_forward for word, score in word_score_table.items()}\n",
    "l_tokenizer = LTokenizer(scores=scores)\n",
    "l_tokenizer.tokenize(\"국제사회와 우리의 노력들로 범죄를 척결하자\", flatten=False)"
   ]
  },
  {
   "cell_type": "markdown",
   "id": "lesser-programming",
   "metadata": {},
   "source": [
    "## (2) 최대 점수 토크나이저"
   ]
  },
  {
   "cell_type": "markdown",
   "id": "experienced-shower",
   "metadata": {},
   "source": [
    "최대 점수 토크나이저(MaxScoreTokenizer)는 띄어쓰기가 되어 있지 않은 문장에서 점수가 높은 글자 시퀀스를 순차적으로 찾아내는 토크나이저입니다. 띄어쓰기가 되어 있지 않은 문장을 넣어서 점수를 통해 토큰화된 결과를 보겠습니다."
   ]
  },
  {
   "cell_type": "code",
   "execution_count": 54,
   "id": "nuclear-sport",
   "metadata": {},
   "outputs": [
    {
     "data": {
      "text/plain": [
       "['국제사회', '와', '우리', '의', '노력', '들로', '범죄', '를', '척결', '하자']"
      ]
     },
     "execution_count": 54,
     "metadata": {},
     "output_type": "execute_result"
    }
   ],
   "source": [
    "from soynlp.tokenizer import MaxScoreTokenizer\n",
    "\n",
    "maxscore_tokenizer = MaxScoreTokenizer(scores=scores)\n",
    "maxscore_tokenizer.tokenize(\"국제사회와우리의노력들로범죄를척결하자\")"
   ]
  },
  {
   "cell_type": "markdown",
   "id": "advisory-operations",
   "metadata": {},
   "source": [
    "진짜 양 많다.하하하핳"
   ]
  },
  {
   "cell_type": "markdown",
   "id": "consolidated-formula",
   "metadata": {},
   "source": []
  },
  {
   "cell_type": "markdown",
   "id": "tamil-mentor",
   "metadata": {},
   "source": []
  },
  {
   "cell_type": "markdown",
   "id": "excellent-purse",
   "metadata": {},
   "source": []
  },
  {
   "cell_type": "markdown",
   "id": "serial-course",
   "metadata": {},
   "source": []
  }
 ],
 "metadata": {
  "kernelspec": {
   "display_name": "aiffel",
   "language": "python",
   "name": "aiffel"
  },
  "language_info": {
   "codemirror_mode": {
    "name": "ipython",
    "version": 3
   },
   "file_extension": ".py",
   "mimetype": "text/x-python",
   "name": "python",
   "nbconvert_exporter": "python",
   "pygments_lexer": "ipython3",
   "version": "3.7.9"
  },
  "toc": {
   "base_numbering": 1,
   "nav_menu": {},
   "number_sections": true,
   "sideBar": true,
   "skip_h1_title": false,
   "title_cell": "Table of Contents",
   "title_sidebar": "Contents",
   "toc_cell": false,
   "toc_position": {
    "height": "calc(100% - 180px)",
    "left": "10px",
    "top": "150px",
    "width": "424.594px"
   },
   "toc_section_display": true,
   "toc_window_display": true
  },
  "varInspector": {
   "cols": {
    "lenName": 16,
    "lenType": 16,
    "lenVar": 40
   },
   "kernels_config": {
    "python": {
     "delete_cmd_postfix": "",
     "delete_cmd_prefix": "del ",
     "library": "var_list.py",
     "varRefreshCmd": "print(var_dic_list())"
    },
    "r": {
     "delete_cmd_postfix": ") ",
     "delete_cmd_prefix": "rm(",
     "library": "var_list.r",
     "varRefreshCmd": "cat(var_dic_list()) "
    }
   },
   "types_to_exclude": [
    "module",
    "function",
    "builtin_function_or_method",
    "instance",
    "_Feature"
   ],
   "window_display": false
  }
 },
 "nbformat": 4,
 "nbformat_minor": 5
}
