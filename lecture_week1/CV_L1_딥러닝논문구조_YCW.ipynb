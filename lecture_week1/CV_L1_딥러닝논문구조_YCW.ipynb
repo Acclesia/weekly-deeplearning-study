{
 "cells": [
  {
   "cell_type": "markdown",
   "id": "creative-lithuania",
   "metadata": {},
   "source": [
    "# AIFFEL 대전 1기 Going Deeper CV\n",
    "## Date: APRIL 05, 2021"
   ]
  },
  {
   "cell_type": "markdown",
   "id": "anticipated-scanner",
   "metadata": {},
   "source": [
    "# 딥러닝 논문 구조\n",
    "\n",
    "딥러닝 논문의 구조는 주로 아래와 같은 구조로 되어 있다.  \n",
    "- 논문 다운로드: [Deep Residual Learning for Image Recognition](https://arxiv.org/abs/1512.03385)  \n",
    "![article](https://aiffelstaticprd.blob.core.windows.net/media/images/GC-1-L-4.max-800x600.png)   \n",
    "\n",
    "1. 초록(abstract): 아이디어를 제안하는 방식과 학계에 이 논문이 기여하는 점을 요약  \n",
    "2. 서론(introduction): 논문에서 제안하는 방식에 대한 소개  \n",
    "3. 관련 연구(related work): 해당 논문과 관련된 연구에 대한 소개  \n",
    "4. 이론 설명: 논문에서 제안하는 이론에 대한 설명  \n",
    "5. 실험(experiments): 제안하는 이론/방법의 효과를 확인하기 위한 실험 셋팅  \n",
    "6. 결론(conclusion): 논문에서 제안한 방식과 이론 그리고 실험 결과를 바탕으로 한 결과  \n",
    "7. 참고문헌(reference) 와 부록(appendix)  \n",
    "\n",
    "### 예시) ResNet 논문의 구조\n",
    "Abstract와 1.Introduction에서 문제의식과 이를 해결하는 솔루션의 전체적 개요를 요약해서 제시한 후  \n",
    "\n",
    "2.Related Work에서는 본 논문의 솔루션과 유사한 다른 시도들을 언급합니다.  \n",
    "\n",
    "3.Deep Residual Learning에는 제안 방법의 구체적인 내용과 구현 방법을 소개하고  \n",
    "\n",
    "4.Experiments에서 비교실험 구조와 다양한 데이터셋에서의 실험결과를 통해 이를 검증합니다  \n",
    "\n",
    "끝으로 References와 Appendix가 뒤를 잇습니다."
   ]
  }
 ],
 "metadata": {
  "kernelspec": {
   "display_name": "aiffel",
   "language": "python",
   "name": "aiffel"
  },
  "language_info": {
   "codemirror_mode": {
    "name": "ipython",
    "version": 3
   },
   "file_extension": ".py",
   "mimetype": "text/x-python",
   "name": "python",
   "nbconvert_exporter": "python",
   "pygments_lexer": "ipython3",
   "version": "3.7.10"
  }
 },
 "nbformat": 4,
 "nbformat_minor": 5
}
